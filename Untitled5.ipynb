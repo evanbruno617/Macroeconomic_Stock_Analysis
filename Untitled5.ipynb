{
 "cells": [
  {
   "cell_type": "code",
   "execution_count": 230,
   "id": "7035e574",
   "metadata": {},
   "outputs": [],
   "source": [
    "import pandas as pd\n",
    "from pathlib import Path\n",
    "import matplotlib.pyplot as plt\n",
    "from sklearn.linear_model import LinearRegression\n",
    "from sklearn.ensemble import RandomForestClassifier\n",
    "from sklearn.model_selection import train_test_split\n",
    "from sklearn.preprocessing import StandardScaler, MinMaxScaler\n",
    "from sklearn.ensemble import RandomForestClassifier\n",
    "from sklearn.metrics import accuracy_score\n",
    "from matplotlib import pyplot as plt"
   ]
  },
  {
   "cell_type": "code",
   "execution_count": 243,
   "id": "2c83e7bc",
   "metadata": {},
   "outputs": [
    {
     "data": {
      "text/html": [
       "<div>\n",
       "<style scoped>\n",
       "    .dataframe tbody tr th:only-of-type {\n",
       "        vertical-align: middle;\n",
       "    }\n",
       "\n",
       "    .dataframe tbody tr th {\n",
       "        vertical-align: top;\n",
       "    }\n",
       "\n",
       "    .dataframe thead th {\n",
       "        text-align: right;\n",
       "    }\n",
       "</style>\n",
       "<table border=\"1\" class=\"dataframe\">\n",
       "  <thead>\n",
       "    <tr style=\"text-align: right;\">\n",
       "      <th></th>\n",
       "      <th>Datetime</th>\n",
       "      <th>Open</th>\n",
       "      <th>Close</th>\n",
       "      <th>High</th>\n",
       "      <th>Low</th>\n",
       "      <th>Volume</th>\n",
       "      <th>Gain%</th>\n",
       "      <th>Previous_Low</th>\n",
       "      <th>NextDay_open</th>\n",
       "      <th>NextDay_Volume</th>\n",
       "      <th>...</th>\n",
       "      <th>Range of the day</th>\n",
       "      <th>R/G</th>\n",
       "      <th>below_25</th>\n",
       "      <th>mean</th>\n",
       "      <th>75_percentile</th>\n",
       "      <th>Max</th>\n",
       "      <th>50dayEWM</th>\n",
       "      <th>100dayEWM</th>\n",
       "      <th>10dayEWM</th>\n",
       "      <th>Gain_Loss</th>\n",
       "    </tr>\n",
       "  </thead>\n",
       "  <tbody>\n",
       "    <tr>\n",
       "      <th>0</th>\n",
       "      <td>2002-06-24 22:00:00</td>\n",
       "      <td>100.30</td>\n",
       "      <td>97.56</td>\n",
       "      <td>100.890</td>\n",
       "      <td>97.5400</td>\n",
       "      <td>33355000</td>\n",
       "      <td>-2.731805</td>\n",
       "      <td>97.2500</td>\n",
       "      <td>95.20</td>\n",
       "      <td>37913600.0</td>\n",
       "      <td>...</td>\n",
       "      <td>3.3500</td>\n",
       "      <td>0</td>\n",
       "      <td>97.54</td>\n",
       "      <td>NaN</td>\n",
       "      <td>NaN</td>\n",
       "      <td>NaN</td>\n",
       "      <td>97.560000</td>\n",
       "      <td>97.560000</td>\n",
       "      <td>97.560000</td>\n",
       "      <td>-2.36</td>\n",
       "    </tr>\n",
       "    <tr>\n",
       "      <th>1</th>\n",
       "      <td>2002-06-25 22:00:00</td>\n",
       "      <td>95.20</td>\n",
       "      <td>97.72</td>\n",
       "      <td>98.150</td>\n",
       "      <td>95.1900</td>\n",
       "      <td>37913600</td>\n",
       "      <td>2.647059</td>\n",
       "      <td>97.5400</td>\n",
       "      <td>98.50</td>\n",
       "      <td>31616400.0</td>\n",
       "      <td>...</td>\n",
       "      <td>2.9600</td>\n",
       "      <td>1</td>\n",
       "      <td>95.19</td>\n",
       "      <td>NaN</td>\n",
       "      <td>NaN</td>\n",
       "      <td>NaN</td>\n",
       "      <td>97.566275</td>\n",
       "      <td>97.563168</td>\n",
       "      <td>97.589091</td>\n",
       "      <td>0.78</td>\n",
       "    </tr>\n",
       "    <tr>\n",
       "      <th>2</th>\n",
       "      <td>2002-06-26 22:00:00</td>\n",
       "      <td>98.50</td>\n",
       "      <td>99.43</td>\n",
       "      <td>99.490</td>\n",
       "      <td>96.5700</td>\n",
       "      <td>31616400</td>\n",
       "      <td>0.944162</td>\n",
       "      <td>95.1900</td>\n",
       "      <td>99.24</td>\n",
       "      <td>28184200.0</td>\n",
       "      <td>...</td>\n",
       "      <td>2.9200</td>\n",
       "      <td>0</td>\n",
       "      <td>96.57</td>\n",
       "      <td>NaN</td>\n",
       "      <td>NaN</td>\n",
       "      <td>NaN</td>\n",
       "      <td>97.639362</td>\n",
       "      <td>97.600135</td>\n",
       "      <td>97.923802</td>\n",
       "      <td>-0.19</td>\n",
       "    </tr>\n",
       "    <tr>\n",
       "      <th>3</th>\n",
       "      <td>2002-06-27 22:00:00</td>\n",
       "      <td>99.24</td>\n",
       "      <td>98.96</td>\n",
       "      <td>100.500</td>\n",
       "      <td>98.8800</td>\n",
       "      <td>28184200</td>\n",
       "      <td>-0.282144</td>\n",
       "      <td>96.5700</td>\n",
       "      <td>99.18</td>\n",
       "      <td>20270200.0</td>\n",
       "      <td>...</td>\n",
       "      <td>1.6200</td>\n",
       "      <td>1</td>\n",
       "      <td>98.88</td>\n",
       "      <td>NaN</td>\n",
       "      <td>NaN</td>\n",
       "      <td>NaN</td>\n",
       "      <td>97.691152</td>\n",
       "      <td>97.627063</td>\n",
       "      <td>98.112201</td>\n",
       "      <td>0.22</td>\n",
       "    </tr>\n",
       "    <tr>\n",
       "      <th>4</th>\n",
       "      <td>2002-06-30 22:00:00</td>\n",
       "      <td>99.18</td>\n",
       "      <td>97.03</td>\n",
       "      <td>99.800</td>\n",
       "      <td>96.8900</td>\n",
       "      <td>20270200</td>\n",
       "      <td>-2.167776</td>\n",
       "      <td>98.8800</td>\n",
       "      <td>96.86</td>\n",
       "      <td>34213900.0</td>\n",
       "      <td>...</td>\n",
       "      <td>2.9100</td>\n",
       "      <td>0</td>\n",
       "      <td>96.89</td>\n",
       "      <td>NaN</td>\n",
       "      <td>NaN</td>\n",
       "      <td>NaN</td>\n",
       "      <td>97.665224</td>\n",
       "      <td>97.615240</td>\n",
       "      <td>97.915437</td>\n",
       "      <td>-0.17</td>\n",
       "    </tr>\n",
       "    <tr>\n",
       "      <th>...</th>\n",
       "      <td>...</td>\n",
       "      <td>...</td>\n",
       "      <td>...</td>\n",
       "      <td>...</td>\n",
       "      <td>...</td>\n",
       "      <td>...</td>\n",
       "      <td>...</td>\n",
       "      <td>...</td>\n",
       "      <td>...</td>\n",
       "      <td>...</td>\n",
       "      <td>...</td>\n",
       "      <td>...</td>\n",
       "      <td>...</td>\n",
       "      <td>...</td>\n",
       "      <td>...</td>\n",
       "      <td>...</td>\n",
       "      <td>...</td>\n",
       "      <td>...</td>\n",
       "      <td>...</td>\n",
       "      <td>...</td>\n",
       "      <td>...</td>\n",
       "    </tr>\n",
       "    <tr>\n",
       "      <th>5028</th>\n",
       "      <td>2022-06-13 22:00:00</td>\n",
       "      <td>376.85</td>\n",
       "      <td>373.87</td>\n",
       "      <td>377.940</td>\n",
       "      <td>370.5900</td>\n",
       "      <td>104011831</td>\n",
       "      <td>-0.790766</td>\n",
       "      <td>373.3000</td>\n",
       "      <td>377.36</td>\n",
       "      <td>125666797.0</td>\n",
       "      <td>...</td>\n",
       "      <td>7.3500</td>\n",
       "      <td>1</td>\n",
       "      <td>NaN</td>\n",
       "      <td>370.59</td>\n",
       "      <td>NaN</td>\n",
       "      <td>NaN</td>\n",
       "      <td>412.373061</td>\n",
       "      <td>424.149000</td>\n",
       "      <td>394.944512</td>\n",
       "      <td>3.49</td>\n",
       "    </tr>\n",
       "    <tr>\n",
       "      <th>5029</th>\n",
       "      <td>2022-06-14 22:00:00</td>\n",
       "      <td>377.36</td>\n",
       "      <td>379.20</td>\n",
       "      <td>383.900</td>\n",
       "      <td>372.1200</td>\n",
       "      <td>125666797</td>\n",
       "      <td>0.487598</td>\n",
       "      <td>370.5900</td>\n",
       "      <td>370.51</td>\n",
       "      <td>134473288.0</td>\n",
       "      <td>...</td>\n",
       "      <td>11.7800</td>\n",
       "      <td>0</td>\n",
       "      <td>NaN</td>\n",
       "      <td>NaN</td>\n",
       "      <td>372.1200</td>\n",
       "      <td>NaN</td>\n",
       "      <td>411.072156</td>\n",
       "      <td>423.258921</td>\n",
       "      <td>392.081873</td>\n",
       "      <td>-8.69</td>\n",
       "    </tr>\n",
       "    <tr>\n",
       "      <th>5030</th>\n",
       "      <td>2022-06-15 22:00:00</td>\n",
       "      <td>370.51</td>\n",
       "      <td>366.65</td>\n",
       "      <td>370.940</td>\n",
       "      <td>364.0799</td>\n",
       "      <td>134473288</td>\n",
       "      <td>-1.041807</td>\n",
       "      <td>372.1200</td>\n",
       "      <td>365.51</td>\n",
       "      <td>111113904.0</td>\n",
       "      <td>...</td>\n",
       "      <td>6.8601</td>\n",
       "      <td>0</td>\n",
       "      <td>NaN</td>\n",
       "      <td>NaN</td>\n",
       "      <td>364.0799</td>\n",
       "      <td>NaN</td>\n",
       "      <td>409.330111</td>\n",
       "      <td>422.137952</td>\n",
       "      <td>387.457896</td>\n",
       "      <td>-1.14</td>\n",
       "    </tr>\n",
       "    <tr>\n",
       "      <th>5031</th>\n",
       "      <td>2022-06-16 22:00:00</td>\n",
       "      <td>365.51</td>\n",
       "      <td>365.86</td>\n",
       "      <td>369.380</td>\n",
       "      <td>362.1700</td>\n",
       "      <td>111113904</td>\n",
       "      <td>0.095757</td>\n",
       "      <td>364.0799</td>\n",
       "      <td>371.89</td>\n",
       "      <td>76811861.0</td>\n",
       "      <td>...</td>\n",
       "      <td>7.2100</td>\n",
       "      <td>1</td>\n",
       "      <td>NaN</td>\n",
       "      <td>362.17</td>\n",
       "      <td>NaN</td>\n",
       "      <td>NaN</td>\n",
       "      <td>407.625401</td>\n",
       "      <td>421.023537</td>\n",
       "      <td>383.531006</td>\n",
       "      <td>6.03</td>\n",
       "    </tr>\n",
       "    <tr>\n",
       "      <th>5032</th>\n",
       "      <td>2022-06-20 22:00:00</td>\n",
       "      <td>371.89</td>\n",
       "      <td>375.07</td>\n",
       "      <td>376.525</td>\n",
       "      <td>371.8100</td>\n",
       "      <td>76811861</td>\n",
       "      <td>0.855092</td>\n",
       "      <td>362.1700</td>\n",
       "      <td>370.62</td>\n",
       "      <td>90059424.0</td>\n",
       "      <td>...</td>\n",
       "      <td>4.7150</td>\n",
       "      <td>0</td>\n",
       "      <td>NaN</td>\n",
       "      <td>371.81</td>\n",
       "      <td>NaN</td>\n",
       "      <td>NaN</td>\n",
       "      <td>406.348718</td>\n",
       "      <td>420.113566</td>\n",
       "      <td>381.992641</td>\n",
       "      <td>-4.45</td>\n",
       "    </tr>\n",
       "  </tbody>\n",
       "</table>\n",
       "<p>5033 rows × 22 columns</p>\n",
       "</div>"
      ],
      "text/plain": [
       "                 Datetime    Open   Close     High       Low     Volume  \\\n",
       "0     2002-06-24 22:00:00  100.30   97.56  100.890   97.5400   33355000   \n",
       "1     2002-06-25 22:00:00   95.20   97.72   98.150   95.1900   37913600   \n",
       "2     2002-06-26 22:00:00   98.50   99.43   99.490   96.5700   31616400   \n",
       "3     2002-06-27 22:00:00   99.24   98.96  100.500   98.8800   28184200   \n",
       "4     2002-06-30 22:00:00   99.18   97.03   99.800   96.8900   20270200   \n",
       "...                   ...     ...     ...      ...       ...        ...   \n",
       "5028  2022-06-13 22:00:00  376.85  373.87  377.940  370.5900  104011831   \n",
       "5029  2022-06-14 22:00:00  377.36  379.20  383.900  372.1200  125666797   \n",
       "5030  2022-06-15 22:00:00  370.51  366.65  370.940  364.0799  134473288   \n",
       "5031  2022-06-16 22:00:00  365.51  365.86  369.380  362.1700  111113904   \n",
       "5032  2022-06-20 22:00:00  371.89  375.07  376.525  371.8100   76811861   \n",
       "\n",
       "         Gain%  Previous_Low  NextDay_open  NextDay_Volume  ...  \\\n",
       "0    -2.731805       97.2500         95.20      37913600.0  ...   \n",
       "1     2.647059       97.5400         98.50      31616400.0  ...   \n",
       "2     0.944162       95.1900         99.24      28184200.0  ...   \n",
       "3    -0.282144       96.5700         99.18      20270200.0  ...   \n",
       "4    -2.167776       98.8800         96.86      34213900.0  ...   \n",
       "...        ...           ...           ...             ...  ...   \n",
       "5028 -0.790766      373.3000        377.36     125666797.0  ...   \n",
       "5029  0.487598      370.5900        370.51     134473288.0  ...   \n",
       "5030 -1.041807      372.1200        365.51     111113904.0  ...   \n",
       "5031  0.095757      364.0799        371.89      76811861.0  ...   \n",
       "5032  0.855092      362.1700        370.62      90059424.0  ...   \n",
       "\n",
       "     Range of the day  R/G  below_25    mean  75_percentile  Max    50dayEWM  \\\n",
       "0              3.3500    0     97.54     NaN            NaN  NaN   97.560000   \n",
       "1              2.9600    1     95.19     NaN            NaN  NaN   97.566275   \n",
       "2              2.9200    0     96.57     NaN            NaN  NaN   97.639362   \n",
       "3              1.6200    1     98.88     NaN            NaN  NaN   97.691152   \n",
       "4              2.9100    0     96.89     NaN            NaN  NaN   97.665224   \n",
       "...               ...  ...       ...     ...            ...  ...         ...   \n",
       "5028           7.3500    1       NaN  370.59            NaN  NaN  412.373061   \n",
       "5029          11.7800    0       NaN     NaN       372.1200  NaN  411.072156   \n",
       "5030           6.8601    0       NaN     NaN       364.0799  NaN  409.330111   \n",
       "5031           7.2100    1       NaN  362.17            NaN  NaN  407.625401   \n",
       "5032           4.7150    0       NaN  371.81            NaN  NaN  406.348718   \n",
       "\n",
       "       100dayEWM    10dayEWM  Gain_Loss  \n",
       "0      97.560000   97.560000      -2.36  \n",
       "1      97.563168   97.589091       0.78  \n",
       "2      97.600135   97.923802      -0.19  \n",
       "3      97.627063   98.112201       0.22  \n",
       "4      97.615240   97.915437      -0.17  \n",
       "...          ...         ...        ...  \n",
       "5028  424.149000  394.944512       3.49  \n",
       "5029  423.258921  392.081873      -8.69  \n",
       "5030  422.137952  387.457896      -1.14  \n",
       "5031  421.023537  383.531006       6.03  \n",
       "5032  420.113566  381.992641      -4.45  \n",
       "\n",
       "[5033 rows x 22 columns]"
      ]
     },
     "execution_count": 243,
     "metadata": {},
     "output_type": "execute_result"
    }
   ],
   "source": [
    "spy = pd.read_csv(\"SPY/graph/graph_SPY_daily_1_False.csv\")\n",
    "spy"
   ]
  },
  {
   "cell_type": "code",
   "execution_count": 244,
   "id": "d60d76a4",
   "metadata": {},
   "outputs": [],
   "source": [
    "spy[\"Gain_of_Day\"] = spy[\"Close\"] - spy[\"Open\"]"
   ]
  },
  {
   "cell_type": "code",
   "execution_count": 245,
   "id": "45d4e81b",
   "metadata": {},
   "outputs": [
    {
     "data": {
      "text/plain": [
       "Index(['Datetime', 'Open', 'Close', 'High', 'Low', 'Volume', 'Gain%',\n",
       "       'Previous_Low', 'NextDay_open', 'NextDay_Volume', 'Range', '%Gain',\n",
       "       'Range of the day', 'R/G', 'below_25', 'mean', '75_percentile', 'Max',\n",
       "       '50dayEWM', '100dayEWM', '10dayEWM', 'Gain_Loss', 'Gain_of_Day'],\n",
       "      dtype='object')"
      ]
     },
     "execution_count": 245,
     "metadata": {},
     "output_type": "execute_result"
    }
   ],
   "source": [
    "spy.columns"
   ]
  },
  {
   "cell_type": "code",
   "execution_count": 246,
   "id": "2971506b",
   "metadata": {},
   "outputs": [
    {
     "data": {
      "text/html": [
       "<div>\n",
       "<style scoped>\n",
       "    .dataframe tbody tr th:only-of-type {\n",
       "        vertical-align: middle;\n",
       "    }\n",
       "\n",
       "    .dataframe tbody tr th {\n",
       "        vertical-align: top;\n",
       "    }\n",
       "\n",
       "    .dataframe thead th {\n",
       "        text-align: right;\n",
       "    }\n",
       "</style>\n",
       "<table border=\"1\" class=\"dataframe\">\n",
       "  <thead>\n",
       "    <tr style=\"text-align: right;\">\n",
       "      <th></th>\n",
       "      <th>Datetime</th>\n",
       "      <th>Open</th>\n",
       "      <th>Close</th>\n",
       "      <th>High</th>\n",
       "      <th>Low</th>\n",
       "      <th>Volume</th>\n",
       "      <th>Gain%</th>\n",
       "      <th>Previous_Low</th>\n",
       "      <th>NextDay_open</th>\n",
       "      <th>NextDay_Volume</th>\n",
       "      <th>...</th>\n",
       "      <th>R/G</th>\n",
       "      <th>below_25</th>\n",
       "      <th>mean</th>\n",
       "      <th>75_percentile</th>\n",
       "      <th>Max</th>\n",
       "      <th>50dayEWM</th>\n",
       "      <th>100dayEWM</th>\n",
       "      <th>10dayEWM</th>\n",
       "      <th>Gain_Loss</th>\n",
       "      <th>Gain_of_Day</th>\n",
       "    </tr>\n",
       "  </thead>\n",
       "  <tbody>\n",
       "    <tr>\n",
       "      <th>0</th>\n",
       "      <td>2002-06-24 22:00:00</td>\n",
       "      <td>100.30</td>\n",
       "      <td>97.56</td>\n",
       "      <td>100.890</td>\n",
       "      <td>97.5400</td>\n",
       "      <td>33355000</td>\n",
       "      <td>-2.731805</td>\n",
       "      <td>97.2500</td>\n",
       "      <td>95.20</td>\n",
       "      <td>37913600.0</td>\n",
       "      <td>...</td>\n",
       "      <td>0</td>\n",
       "      <td>97.54</td>\n",
       "      <td>NaN</td>\n",
       "      <td>NaN</td>\n",
       "      <td>NaN</td>\n",
       "      <td>97.560000</td>\n",
       "      <td>97.560000</td>\n",
       "      <td>97.560000</td>\n",
       "      <td>-2.36</td>\n",
       "      <td>-2.74</td>\n",
       "    </tr>\n",
       "    <tr>\n",
       "      <th>1</th>\n",
       "      <td>2002-06-25 22:00:00</td>\n",
       "      <td>95.20</td>\n",
       "      <td>97.72</td>\n",
       "      <td>98.150</td>\n",
       "      <td>95.1900</td>\n",
       "      <td>37913600</td>\n",
       "      <td>2.647059</td>\n",
       "      <td>97.5400</td>\n",
       "      <td>98.50</td>\n",
       "      <td>31616400.0</td>\n",
       "      <td>...</td>\n",
       "      <td>1</td>\n",
       "      <td>95.19</td>\n",
       "      <td>NaN</td>\n",
       "      <td>NaN</td>\n",
       "      <td>NaN</td>\n",
       "      <td>97.566275</td>\n",
       "      <td>97.563168</td>\n",
       "      <td>97.589091</td>\n",
       "      <td>0.78</td>\n",
       "      <td>2.52</td>\n",
       "    </tr>\n",
       "    <tr>\n",
       "      <th>2</th>\n",
       "      <td>2002-06-26 22:00:00</td>\n",
       "      <td>98.50</td>\n",
       "      <td>99.43</td>\n",
       "      <td>99.490</td>\n",
       "      <td>96.5700</td>\n",
       "      <td>31616400</td>\n",
       "      <td>0.944162</td>\n",
       "      <td>95.1900</td>\n",
       "      <td>99.24</td>\n",
       "      <td>28184200.0</td>\n",
       "      <td>...</td>\n",
       "      <td>0</td>\n",
       "      <td>96.57</td>\n",
       "      <td>NaN</td>\n",
       "      <td>NaN</td>\n",
       "      <td>NaN</td>\n",
       "      <td>97.639362</td>\n",
       "      <td>97.600135</td>\n",
       "      <td>97.923802</td>\n",
       "      <td>-0.19</td>\n",
       "      <td>0.93</td>\n",
       "    </tr>\n",
       "    <tr>\n",
       "      <th>3</th>\n",
       "      <td>2002-06-27 22:00:00</td>\n",
       "      <td>99.24</td>\n",
       "      <td>98.96</td>\n",
       "      <td>100.500</td>\n",
       "      <td>98.8800</td>\n",
       "      <td>28184200</td>\n",
       "      <td>-0.282144</td>\n",
       "      <td>96.5700</td>\n",
       "      <td>99.18</td>\n",
       "      <td>20270200.0</td>\n",
       "      <td>...</td>\n",
       "      <td>1</td>\n",
       "      <td>98.88</td>\n",
       "      <td>NaN</td>\n",
       "      <td>NaN</td>\n",
       "      <td>NaN</td>\n",
       "      <td>97.691152</td>\n",
       "      <td>97.627063</td>\n",
       "      <td>98.112201</td>\n",
       "      <td>0.22</td>\n",
       "      <td>-0.28</td>\n",
       "    </tr>\n",
       "    <tr>\n",
       "      <th>4</th>\n",
       "      <td>2002-06-30 22:00:00</td>\n",
       "      <td>99.18</td>\n",
       "      <td>97.03</td>\n",
       "      <td>99.800</td>\n",
       "      <td>96.8900</td>\n",
       "      <td>20270200</td>\n",
       "      <td>-2.167776</td>\n",
       "      <td>98.8800</td>\n",
       "      <td>96.86</td>\n",
       "      <td>34213900.0</td>\n",
       "      <td>...</td>\n",
       "      <td>0</td>\n",
       "      <td>96.89</td>\n",
       "      <td>NaN</td>\n",
       "      <td>NaN</td>\n",
       "      <td>NaN</td>\n",
       "      <td>97.665224</td>\n",
       "      <td>97.615240</td>\n",
       "      <td>97.915437</td>\n",
       "      <td>-0.17</td>\n",
       "      <td>-2.15</td>\n",
       "    </tr>\n",
       "    <tr>\n",
       "      <th>...</th>\n",
       "      <td>...</td>\n",
       "      <td>...</td>\n",
       "      <td>...</td>\n",
       "      <td>...</td>\n",
       "      <td>...</td>\n",
       "      <td>...</td>\n",
       "      <td>...</td>\n",
       "      <td>...</td>\n",
       "      <td>...</td>\n",
       "      <td>...</td>\n",
       "      <td>...</td>\n",
       "      <td>...</td>\n",
       "      <td>...</td>\n",
       "      <td>...</td>\n",
       "      <td>...</td>\n",
       "      <td>...</td>\n",
       "      <td>...</td>\n",
       "      <td>...</td>\n",
       "      <td>...</td>\n",
       "      <td>...</td>\n",
       "      <td>...</td>\n",
       "    </tr>\n",
       "    <tr>\n",
       "      <th>5028</th>\n",
       "      <td>2022-06-13 22:00:00</td>\n",
       "      <td>376.85</td>\n",
       "      <td>373.87</td>\n",
       "      <td>377.940</td>\n",
       "      <td>370.5900</td>\n",
       "      <td>104011831</td>\n",
       "      <td>-0.790766</td>\n",
       "      <td>373.3000</td>\n",
       "      <td>377.36</td>\n",
       "      <td>125666797.0</td>\n",
       "      <td>...</td>\n",
       "      <td>1</td>\n",
       "      <td>NaN</td>\n",
       "      <td>370.59</td>\n",
       "      <td>NaN</td>\n",
       "      <td>NaN</td>\n",
       "      <td>412.373061</td>\n",
       "      <td>424.149000</td>\n",
       "      <td>394.944512</td>\n",
       "      <td>3.49</td>\n",
       "      <td>-2.98</td>\n",
       "    </tr>\n",
       "    <tr>\n",
       "      <th>5029</th>\n",
       "      <td>2022-06-14 22:00:00</td>\n",
       "      <td>377.36</td>\n",
       "      <td>379.20</td>\n",
       "      <td>383.900</td>\n",
       "      <td>372.1200</td>\n",
       "      <td>125666797</td>\n",
       "      <td>0.487598</td>\n",
       "      <td>370.5900</td>\n",
       "      <td>370.51</td>\n",
       "      <td>134473288.0</td>\n",
       "      <td>...</td>\n",
       "      <td>0</td>\n",
       "      <td>NaN</td>\n",
       "      <td>NaN</td>\n",
       "      <td>372.1200</td>\n",
       "      <td>NaN</td>\n",
       "      <td>411.072156</td>\n",
       "      <td>423.258921</td>\n",
       "      <td>392.081873</td>\n",
       "      <td>-8.69</td>\n",
       "      <td>1.84</td>\n",
       "    </tr>\n",
       "    <tr>\n",
       "      <th>5030</th>\n",
       "      <td>2022-06-15 22:00:00</td>\n",
       "      <td>370.51</td>\n",
       "      <td>366.65</td>\n",
       "      <td>370.940</td>\n",
       "      <td>364.0799</td>\n",
       "      <td>134473288</td>\n",
       "      <td>-1.041807</td>\n",
       "      <td>372.1200</td>\n",
       "      <td>365.51</td>\n",
       "      <td>111113904.0</td>\n",
       "      <td>...</td>\n",
       "      <td>0</td>\n",
       "      <td>NaN</td>\n",
       "      <td>NaN</td>\n",
       "      <td>364.0799</td>\n",
       "      <td>NaN</td>\n",
       "      <td>409.330111</td>\n",
       "      <td>422.137952</td>\n",
       "      <td>387.457896</td>\n",
       "      <td>-1.14</td>\n",
       "      <td>-3.86</td>\n",
       "    </tr>\n",
       "    <tr>\n",
       "      <th>5031</th>\n",
       "      <td>2022-06-16 22:00:00</td>\n",
       "      <td>365.51</td>\n",
       "      <td>365.86</td>\n",
       "      <td>369.380</td>\n",
       "      <td>362.1700</td>\n",
       "      <td>111113904</td>\n",
       "      <td>0.095757</td>\n",
       "      <td>364.0799</td>\n",
       "      <td>371.89</td>\n",
       "      <td>76811861.0</td>\n",
       "      <td>...</td>\n",
       "      <td>1</td>\n",
       "      <td>NaN</td>\n",
       "      <td>362.17</td>\n",
       "      <td>NaN</td>\n",
       "      <td>NaN</td>\n",
       "      <td>407.625401</td>\n",
       "      <td>421.023537</td>\n",
       "      <td>383.531006</td>\n",
       "      <td>6.03</td>\n",
       "      <td>0.35</td>\n",
       "    </tr>\n",
       "    <tr>\n",
       "      <th>5032</th>\n",
       "      <td>2022-06-20 22:00:00</td>\n",
       "      <td>371.89</td>\n",
       "      <td>375.07</td>\n",
       "      <td>376.525</td>\n",
       "      <td>371.8100</td>\n",
       "      <td>76811861</td>\n",
       "      <td>0.855092</td>\n",
       "      <td>362.1700</td>\n",
       "      <td>370.62</td>\n",
       "      <td>90059424.0</td>\n",
       "      <td>...</td>\n",
       "      <td>0</td>\n",
       "      <td>NaN</td>\n",
       "      <td>371.81</td>\n",
       "      <td>NaN</td>\n",
       "      <td>NaN</td>\n",
       "      <td>406.348718</td>\n",
       "      <td>420.113566</td>\n",
       "      <td>381.992641</td>\n",
       "      <td>-4.45</td>\n",
       "      <td>3.18</td>\n",
       "    </tr>\n",
       "  </tbody>\n",
       "</table>\n",
       "<p>5033 rows × 23 columns</p>\n",
       "</div>"
      ],
      "text/plain": [
       "                 Datetime    Open   Close     High       Low     Volume  \\\n",
       "0     2002-06-24 22:00:00  100.30   97.56  100.890   97.5400   33355000   \n",
       "1     2002-06-25 22:00:00   95.20   97.72   98.150   95.1900   37913600   \n",
       "2     2002-06-26 22:00:00   98.50   99.43   99.490   96.5700   31616400   \n",
       "3     2002-06-27 22:00:00   99.24   98.96  100.500   98.8800   28184200   \n",
       "4     2002-06-30 22:00:00   99.18   97.03   99.800   96.8900   20270200   \n",
       "...                   ...     ...     ...      ...       ...        ...   \n",
       "5028  2022-06-13 22:00:00  376.85  373.87  377.940  370.5900  104011831   \n",
       "5029  2022-06-14 22:00:00  377.36  379.20  383.900  372.1200  125666797   \n",
       "5030  2022-06-15 22:00:00  370.51  366.65  370.940  364.0799  134473288   \n",
       "5031  2022-06-16 22:00:00  365.51  365.86  369.380  362.1700  111113904   \n",
       "5032  2022-06-20 22:00:00  371.89  375.07  376.525  371.8100   76811861   \n",
       "\n",
       "         Gain%  Previous_Low  NextDay_open  NextDay_Volume  ... R/G  below_25  \\\n",
       "0    -2.731805       97.2500         95.20      37913600.0  ...   0     97.54   \n",
       "1     2.647059       97.5400         98.50      31616400.0  ...   1     95.19   \n",
       "2     0.944162       95.1900         99.24      28184200.0  ...   0     96.57   \n",
       "3    -0.282144       96.5700         99.18      20270200.0  ...   1     98.88   \n",
       "4    -2.167776       98.8800         96.86      34213900.0  ...   0     96.89   \n",
       "...        ...           ...           ...             ...  ...  ..       ...   \n",
       "5028 -0.790766      373.3000        377.36     125666797.0  ...   1       NaN   \n",
       "5029  0.487598      370.5900        370.51     134473288.0  ...   0       NaN   \n",
       "5030 -1.041807      372.1200        365.51     111113904.0  ...   0       NaN   \n",
       "5031  0.095757      364.0799        371.89      76811861.0  ...   1       NaN   \n",
       "5032  0.855092      362.1700        370.62      90059424.0  ...   0       NaN   \n",
       "\n",
       "        mean  75_percentile  Max    50dayEWM   100dayEWM    10dayEWM  \\\n",
       "0        NaN            NaN  NaN   97.560000   97.560000   97.560000   \n",
       "1        NaN            NaN  NaN   97.566275   97.563168   97.589091   \n",
       "2        NaN            NaN  NaN   97.639362   97.600135   97.923802   \n",
       "3        NaN            NaN  NaN   97.691152   97.627063   98.112201   \n",
       "4        NaN            NaN  NaN   97.665224   97.615240   97.915437   \n",
       "...      ...            ...  ...         ...         ...         ...   \n",
       "5028  370.59            NaN  NaN  412.373061  424.149000  394.944512   \n",
       "5029     NaN       372.1200  NaN  411.072156  423.258921  392.081873   \n",
       "5030     NaN       364.0799  NaN  409.330111  422.137952  387.457896   \n",
       "5031  362.17            NaN  NaN  407.625401  421.023537  383.531006   \n",
       "5032  371.81            NaN  NaN  406.348718  420.113566  381.992641   \n",
       "\n",
       "      Gain_Loss  Gain_of_Day  \n",
       "0         -2.36        -2.74  \n",
       "1          0.78         2.52  \n",
       "2         -0.19         0.93  \n",
       "3          0.22        -0.28  \n",
       "4         -0.17        -2.15  \n",
       "...         ...          ...  \n",
       "5028       3.49        -2.98  \n",
       "5029      -8.69         1.84  \n",
       "5030      -1.14        -3.86  \n",
       "5031       6.03         0.35  \n",
       "5032      -4.45         3.18  \n",
       "\n",
       "[5033 rows x 23 columns]"
      ]
     },
     "execution_count": 246,
     "metadata": {},
     "output_type": "execute_result"
    }
   ],
   "source": [
    "spy"
   ]
  },
  {
   "cell_type": "code",
   "execution_count": 6,
   "id": "fb4ff37a",
   "metadata": {},
   "outputs": [],
   "source": [
    "spy[\"Gain_per_volume\"] = spy[\"Gain_of_Day\"] / (spy[\"Volume\"] / 10000000)"
   ]
  },
  {
   "cell_type": "code",
   "execution_count": 7,
   "id": "cce9421f",
   "metadata": {},
   "outputs": [],
   "source": [
    "T = spy[\"Gain_per_volume\"]"
   ]
  },
  {
   "cell_type": "code",
   "execution_count": 8,
   "id": "fb87284e",
   "metadata": {},
   "outputs": [
    {
     "ename": "NameError",
     "evalue": "name 'y' is not defined",
     "output_type": "error",
     "traceback": [
      "\u001b[0;31m---------------------------------------------------------------------------\u001b[0m",
      "\u001b[0;31mNameError\u001b[0m                                 Traceback (most recent call last)",
      "\u001b[0;32m/var/folders/g3/164q6cz52jv0sjllnsg7jdsm0000gn/T/ipykernel_8029/2848474620.py\u001b[0m in \u001b[0;36m<module>\u001b[0;34m\u001b[0m\n\u001b[0;32m----> 1\u001b[0;31m \u001b[0mplt\u001b[0m\u001b[0;34m.\u001b[0m\u001b[0mscatter\u001b[0m\u001b[0;34m(\u001b[0m\u001b[0mT\u001b[0m\u001b[0;34m,\u001b[0m \u001b[0my\u001b[0m\u001b[0;34m)\u001b[0m\u001b[0;34m\u001b[0m\u001b[0;34m\u001b[0m\u001b[0m\n\u001b[0m",
      "\u001b[0;31mNameError\u001b[0m: name 'y' is not defined"
     ]
    }
   ],
   "source": [
    "plt.scatter(T, y)"
   ]
  },
  {
   "cell_type": "code",
   "execution_count": 9,
   "id": "d9b56b2e",
   "metadata": {},
   "outputs": [],
   "source": [
    "spy[\"Range_per_Volume\"] = spy[\"Range of the day\"] / (spy[\"Volume\"] / 10000000)"
   ]
  },
  {
   "cell_type": "code",
   "execution_count": 101,
   "id": "62a506ec",
   "metadata": {},
   "outputs": [
    {
     "data": {
      "text/plain": [
       "<matplotlib.collections.PathCollection at 0x7fed18d8a790>"
      ]
     },
     "execution_count": 101,
     "metadata": {},
     "output_type": "execute_result"
    },
    {
     "data": {
      "image/png": "[encoded data removed]",
      "text/plain": [
       "<Figure size 432x288 with 1 Axes>"
      ]
     },
     "metadata": {
      "needs_background": "light"
     },
     "output_type": "display_data"
    }
   ],
   "source": [
    "plt.scatter(spy[\"Range_per_Volume\"], y)"
   ]
  },
  {
   "cell_type": "code",
   "execution_count": 104,
   "id": "9d19a4ef",
   "metadata": {},
   "outputs": [
    {
     "ename": "ValueError",
     "evalue": "Expected 2D array, got 1D array instead:\narray=[0.5175593  0.38891264 0.55571635 0.52929568 0.54104656 0.57264091\n 0.53492242 0.36445163 0.31863734 0.23861434 0.24979215 0.38828698\n 0.29667393 0.27043349 0.28515576 0.55805983 0.30508828 0.42598725\n 0.50113601 0.41009571 0.26573285 0.37580338 0.54927301 0.73810149\n 0.57899555 0.74512603 0.26999529 0.3586531  0.41179688 0.54491522\n 0.25722862 0.31925064 0.48527841 0.67316204 0.74473871 0.5396125\n 0.60230332 0.44572592 0.63718814 0.50096827 0.52432051 0.46522896\n 0.71726851 0.53725541 0.63507551 0.48969255 0.63063604 0.53784594\n 0.42934772 0.30593741 0.24948666 0.64924735 0.39513567 0.63812847\n 0.72897538 0.3084083  0.61314187 0.38194462 0.60368309 0.35329619\n 0.53590216 0.37275395 0.61577824 0.40681846 0.26358253 0.70445717\n 0.67937252 0.31145457 0.2061614  0.26566534 0.33107861 0.39754782\n 0.24680748 0.33681987 0.62016371 0.58215334 0.51141272 0.43137353\n 0.67236296 0.44999408 0.47815862 0.46935654 0.50973801 0.677433\n 0.63781954 0.76198566 0.56993972 0.42398955 0.55044458 0.40485657\n 0.58607831 0.56982381 0.41951843 0.33211894 0.63283283 0.89227431\n 0.51234468 0.50552149 0.24291494 0.36023942 0.35995065 0.28659451\n 0.66693342 0.22041917 0.57350879 0.4434904  0.63848648 0.5408769\n 0.55548834 0.87215482 0.28907169 0.41623786 0.46688915 0.46481449\n 0.48803331 0.26475453 0.32121423 0.49963966 0.44035736 0.4001623\n 0.50016102 0.66413196 0.68706231 0.57440621 0.6547554  0.63077292\n 0.55793575 0.36732097 0.46261379 0.52309558 0.6138731  0.6924448\n 0.55721219 0.35032771 0.54432698 0.38746878 0.56865907 0.68112758\n 0.59111788 0.6726765  0.67059625 0.48041416 0.36213707 0.8645893\n 0.46641553 0.61802852 0.58089186 0.3274967  0.68795659 0.51918399\n 0.34737654 0.60984706 0.61517454 0.77629952 0.52251341 0.45556202\n 0.57350659 0.57010573 0.51660373 0.43959714 0.82270318 0.38034263\n 0.56182684 0.40212126 0.72141966 0.76912382 0.44191291 0.70137174\n 0.54916401 0.69897147 0.35730488 0.72492958 0.42571327 0.85071932\n 0.63450617 0.70806402 0.5440685  0.55987785 0.58764295 1.08539905\n 0.68631729 0.82865095 0.73046881 1.07089421 0.43882249 0.56943917\n 0.56894943 0.48903    0.56444242 0.86570272 0.69229606 0.49249277\n 0.39762982 0.98845003 0.88809309 0.62898938 0.93295702 0.58170791\n 0.48437733 0.60185392 0.33569685 0.55044685 0.61816265 0.92787434\n 0.62054666 0.53459227 0.76596411 1.04975485 0.63012677 1.03539288\n 0.54123983 0.4232183  0.74548109 1.16359171 0.4998239  0.7770398\n 0.7482262  0.81441662 0.80999047 0.86222952 0.68767829 0.54334613\n 0.43200058 0.61512682 0.75556532 0.60847946 0.8270376  0.31050893\n 0.75015857 0.82661837 0.50891718 0.34965231 0.72056819 0.99210723\n 0.51567029 0.77497051 0.89833906 0.84695478 0.81934603 0.51505673\n 0.73011821 0.69228239 0.69287973 0.4812275  0.93851507 0.73373786\n 0.57184001 0.63741947 0.96616057 0.91508141 0.792701   0.75057878].\nReshape your data either using array.reshape(-1, 1) if your data has a single feature or array.reshape(1, -1) if it contains a single sample.",
     "output_type": "error",
     "traceback": [
      "\u001b[0;31m---------------------------------------------------------------------------\u001b[0m",
      "\u001b[0;31mValueError\u001b[0m                                Traceback (most recent call last)",
      "\u001b[0;32m/var/folders/g3/164q6cz52jv0sjllnsg7jdsm0000gn/T/ipykernel_62779/363799660.py\u001b[0m in \u001b[0;36m<module>\u001b[0;34m\u001b[0m\n\u001b[0;32m----> 1\u001b[0;31m \u001b[0mmodel\u001b[0m\u001b[0;34m.\u001b[0m\u001b[0mfit\u001b[0m\u001b[0;34m(\u001b[0m\u001b[0mspy\u001b[0m\u001b[0;34m[\u001b[0m\u001b[0;34m\"Range_per_Volume\"\u001b[0m\u001b[0;34m]\u001b[0m\u001b[0;34m,\u001b[0m \u001b[0my\u001b[0m\u001b[0;34m)\u001b[0m\u001b[0;34m\u001b[0m\u001b[0;34m\u001b[0m\u001b[0m\n\u001b[0m",
      "\u001b[0;32m~/opt/anaconda3/envs/mlenv/lib/python3.7/site-packages/sklearn/linear_model/_base.py\u001b[0m in \u001b[0;36mfit\u001b[0;34m(self, X, y, sample_weight)\u001b[0m\n\u001b[1;32m    661\u001b[0m \u001b[0;34m\u001b[0m\u001b[0m\n\u001b[1;32m    662\u001b[0m         X, y = self._validate_data(\n\u001b[0;32m--> 663\u001b[0;31m             \u001b[0mX\u001b[0m\u001b[0;34m,\u001b[0m \u001b[0my\u001b[0m\u001b[0;34m,\u001b[0m \u001b[0maccept_sparse\u001b[0m\u001b[0;34m=\u001b[0m\u001b[0maccept_sparse\u001b[0m\u001b[0;34m,\u001b[0m \u001b[0my_numeric\u001b[0m\u001b[0;34m=\u001b[0m\u001b[0;32mTrue\u001b[0m\u001b[0;34m,\u001b[0m \u001b[0mmulti_output\u001b[0m\u001b[0;34m=\u001b[0m\u001b[0;32mTrue\u001b[0m\u001b[0;34m\u001b[0m\u001b[0;34m\u001b[0m\u001b[0m\n\u001b[0m\u001b[1;32m    664\u001b[0m         )\n\u001b[1;32m    665\u001b[0m \u001b[0;34m\u001b[0m\u001b[0m\n",
      "\u001b[0;32m~/opt/anaconda3/envs/mlenv/lib/python3.7/site-packages/sklearn/base.py\u001b[0m in \u001b[0;36m_validate_data\u001b[0;34m(self, X, y, reset, validate_separately, **check_params)\u001b[0m\n\u001b[1;32m    579\u001b[0m                 \u001b[0my\u001b[0m \u001b[0;34m=\u001b[0m \u001b[0mcheck_array\u001b[0m\u001b[0;34m(\u001b[0m\u001b[0my\u001b[0m\u001b[0;34m,\u001b[0m \u001b[0;34m**\u001b[0m\u001b[0mcheck_y_params\u001b[0m\u001b[0;34m)\u001b[0m\u001b[0;34m\u001b[0m\u001b[0;34m\u001b[0m\u001b[0m\n\u001b[1;32m    580\u001b[0m             \u001b[0;32melse\u001b[0m\u001b[0;34m:\u001b[0m\u001b[0;34m\u001b[0m\u001b[0;34m\u001b[0m\u001b[0m\n\u001b[0;32m--> 581\u001b[0;31m                 \u001b[0mX\u001b[0m\u001b[0;34m,\u001b[0m \u001b[0my\u001b[0m \u001b[0;34m=\u001b[0m \u001b[0mcheck_X_y\u001b[0m\u001b[0;34m(\u001b[0m\u001b[0mX\u001b[0m\u001b[0;34m,\u001b[0m \u001b[0my\u001b[0m\u001b[0;34m,\u001b[0m \u001b[0;34m**\u001b[0m\u001b[0mcheck_params\u001b[0m\u001b[0;34m)\u001b[0m\u001b[0;34m\u001b[0m\u001b[0;34m\u001b[0m\u001b[0m\n\u001b[0m\u001b[1;32m    582\u001b[0m             \u001b[0mout\u001b[0m \u001b[0;34m=\u001b[0m \u001b[0mX\u001b[0m\u001b[0;34m,\u001b[0m \u001b[0my\u001b[0m\u001b[0;34m\u001b[0m\u001b[0;34m\u001b[0m\u001b[0m\n\u001b[1;32m    583\u001b[0m \u001b[0;34m\u001b[0m\u001b[0m\n",
      "\u001b[0;32m~/opt/anaconda3/envs/mlenv/lib/python3.7/site-packages/sklearn/utils/validation.py\u001b[0m in \u001b[0;36mcheck_X_y\u001b[0;34m(X, y, accept_sparse, accept_large_sparse, dtype, order, copy, force_all_finite, ensure_2d, allow_nd, multi_output, ensure_min_samples, ensure_min_features, y_numeric, estimator)\u001b[0m\n\u001b[1;32m    974\u001b[0m         \u001b[0mensure_min_samples\u001b[0m\u001b[0;34m=\u001b[0m\u001b[0mensure_min_samples\u001b[0m\u001b[0;34m,\u001b[0m\u001b[0;34m\u001b[0m\u001b[0;34m\u001b[0m\u001b[0m\n\u001b[1;32m    975\u001b[0m         \u001b[0mensure_min_features\u001b[0m\u001b[0;34m=\u001b[0m\u001b[0mensure_min_features\u001b[0m\u001b[0;34m,\u001b[0m\u001b[0;34m\u001b[0m\u001b[0;34m\u001b[0m\u001b[0m\n\u001b[0;32m--> 976\u001b[0;31m         \u001b[0mestimator\u001b[0m\u001b[0;34m=\u001b[0m\u001b[0mestimator\u001b[0m\u001b[0;34m,\u001b[0m\u001b[0;34m\u001b[0m\u001b[0;34m\u001b[0m\u001b[0m\n\u001b[0m\u001b[1;32m    977\u001b[0m     )\n\u001b[1;32m    978\u001b[0m \u001b[0;34m\u001b[0m\u001b[0m\n",
      "\u001b[0;32m~/opt/anaconda3/envs/mlenv/lib/python3.7/site-packages/sklearn/utils/validation.py\u001b[0m in \u001b[0;36mcheck_array\u001b[0;34m(array, accept_sparse, accept_large_sparse, dtype, order, copy, force_all_finite, ensure_2d, allow_nd, ensure_min_samples, ensure_min_features, estimator)\u001b[0m\n\u001b[1;32m    771\u001b[0m                     \u001b[0;34m\"Reshape your data either using array.reshape(-1, 1) if \"\u001b[0m\u001b[0;34m\u001b[0m\u001b[0;34m\u001b[0m\u001b[0m\n\u001b[1;32m    772\u001b[0m                     \u001b[0;34m\"your data has a single feature or array.reshape(1, -1) \"\u001b[0m\u001b[0;34m\u001b[0m\u001b[0;34m\u001b[0m\u001b[0m\n\u001b[0;32m--> 773\u001b[0;31m                     \u001b[0;34m\"if it contains a single sample.\"\u001b[0m\u001b[0;34m.\u001b[0m\u001b[0mformat\u001b[0m\u001b[0;34m(\u001b[0m\u001b[0marray\u001b[0m\u001b[0;34m)\u001b[0m\u001b[0;34m\u001b[0m\u001b[0;34m\u001b[0m\u001b[0m\n\u001b[0m\u001b[1;32m    774\u001b[0m                 )\n\u001b[1;32m    775\u001b[0m \u001b[0;34m\u001b[0m\u001b[0m\n",
      "\u001b[0;31mValueError\u001b[0m: Expected 2D array, got 1D array instead:\narray=[0.5175593  0.38891264 0.55571635 0.52929568 0.54104656 0.57264091\n 0.53492242 0.36445163 0.31863734 0.23861434 0.24979215 0.38828698\n 0.29667393 0.27043349 0.28515576 0.55805983 0.30508828 0.42598725\n 0.50113601 0.41009571 0.26573285 0.37580338 0.54927301 0.73810149\n 0.57899555 0.74512603 0.26999529 0.3586531  0.41179688 0.54491522\n 0.25722862 0.31925064 0.48527841 0.67316204 0.74473871 0.5396125\n 0.60230332 0.44572592 0.63718814 0.50096827 0.52432051 0.46522896\n 0.71726851 0.53725541 0.63507551 0.48969255 0.63063604 0.53784594\n 0.42934772 0.30593741 0.24948666 0.64924735 0.39513567 0.63812847\n 0.72897538 0.3084083  0.61314187 0.38194462 0.60368309 0.35329619\n 0.53590216 0.37275395 0.61577824 0.40681846 0.26358253 0.70445717\n 0.67937252 0.31145457 0.2061614  0.26566534 0.33107861 0.39754782\n 0.24680748 0.33681987 0.62016371 0.58215334 0.51141272 0.43137353\n 0.67236296 0.44999408 0.47815862 0.46935654 0.50973801 0.677433\n 0.63781954 0.76198566 0.56993972 0.42398955 0.55044458 0.40485657\n 0.58607831 0.56982381 0.41951843 0.33211894 0.63283283 0.89227431\n 0.51234468 0.50552149 0.24291494 0.36023942 0.35995065 0.28659451\n 0.66693342 0.22041917 0.57350879 0.4434904  0.63848648 0.5408769\n 0.55548834 0.87215482 0.28907169 0.41623786 0.46688915 0.46481449\n 0.48803331 0.26475453 0.32121423 0.49963966 0.44035736 0.4001623\n 0.50016102 0.66413196 0.68706231 0.57440621 0.6547554  0.63077292\n 0.55793575 0.36732097 0.46261379 0.52309558 0.6138731  0.6924448\n 0.55721219 0.35032771 0.54432698 0.38746878 0.56865907 0.68112758\n 0.59111788 0.6726765  0.67059625 0.48041416 0.36213707 0.8645893\n 0.46641553 0.61802852 0.58089186 0.3274967  0.68795659 0.51918399\n 0.34737654 0.60984706 0.61517454 0.77629952 0.52251341 0.45556202\n 0.57350659 0.57010573 0.51660373 0.43959714 0.82270318 0.38034263\n 0.56182684 0.40212126 0.72141966 0.76912382 0.44191291 0.70137174\n 0.54916401 0.69897147 0.35730488 0.72492958 0.42571327 0.85071932\n 0.63450617 0.70806402 0.5440685  0.55987785 0.58764295 1.08539905\n 0.68631729 0.82865095 0.73046881 1.07089421 0.43882249 0.56943917\n 0.56894943 0.48903    0.56444242 0.86570272 0.69229606 0.49249277\n 0.39762982 0.98845003 0.88809309 0.62898938 0.93295702 0.58170791\n 0.48437733 0.60185392 0.33569685 0.55044685 0.61816265 0.92787434\n 0.62054666 0.53459227 0.76596411 1.04975485 0.63012677 1.03539288\n 0.54123983 0.4232183  0.74548109 1.16359171 0.4998239  0.7770398\n 0.7482262  0.81441662 0.80999047 0.86222952 0.68767829 0.54334613\n 0.43200058 0.61512682 0.75556532 0.60847946 0.8270376  0.31050893\n 0.75015857 0.82661837 0.50891718 0.34965231 0.72056819 0.99210723\n 0.51567029 0.77497051 0.89833906 0.84695478 0.81934603 0.51505673\n 0.73011821 0.69228239 0.69287973 0.4812275  0.93851507 0.73373786\n 0.57184001 0.63741947 0.96616057 0.91508141 0.792701   0.75057878].\nReshape your data either using array.reshape(-1, 1) if your data has a single feature or array.reshape(1, -1) if it contains a single sample."
     ]
    }
   ],
   "source": []
  },
  {
   "cell_type": "code",
   "execution_count": null,
   "id": "2b4781ee",
   "metadata": {},
   "outputs": [],
   "source": []
  },
  {
   "cell_type": "code",
   "execution_count": null,
   "id": "0200d988",
   "metadata": {},
   "outputs": [],
   "source": []
  },
  {
   "cell_type": "code",
   "execution_count": null,
   "id": "7b7a4cdd",
   "metadata": {},
   "outputs": [],
   "source": []
  },
  {
   "cell_type": "code",
   "execution_count": null,
   "id": "0a675ccf",
   "metadata": {},
   "outputs": [],
   "source": []
  },
  {
   "cell_type": "code",
   "execution_count": null,
   "id": "8903ab97",
   "metadata": {},
   "outputs": [],
   "source": []
  },
  {
   "cell_type": "code",
   "execution_count": null,
   "id": "c07c0659",
   "metadata": {},
   "outputs": [],
   "source": []
  },
  {
   "cell_type": "code",
   "execution_count": null,
   "id": "a774ada5",
   "metadata": {},
   "outputs": [],
   "source": []
  },
  {
   "cell_type": "code",
   "execution_count": 10,
   "id": "fb10d7ed",
   "metadata": {},
   "outputs": [],
   "source": [
    "y = spy[[\"Gain_Loss\"]]\n",
    "X = spy[[\"Volume\", \"Range of the day\"]]"
   ]
  },
  {
   "cell_type": "code",
   "execution_count": 30,
   "id": "123a65aa",
   "metadata": {},
   "outputs": [],
   "source": [
    "A = spy[[\"Volume\"]]\n",
    "b = spy[[\"Range of the day\"]]"
   ]
  },
  {
   "cell_type": "code",
   "execution_count": 45,
   "id": "ddca2ecf",
   "metadata": {},
   "outputs": [
    {
     "data": {
      "text/plain": [
       "count    2.520000e+02\n",
       "mean     8.214246e+07\n",
       "std      3.524401e+07\n",
       "min      3.484850e+07\n",
       "25%      5.570947e+07\n",
       "50%      7.279199e+07\n",
       "75%      1.022819e+08\n",
       "max      2.524967e+08\n",
       "Name: Volume, dtype: float64"
      ]
     },
     "execution_count": 45,
     "metadata": {},
     "output_type": "execute_result"
    }
   ],
   "source": [
    "spy[\"Volume\"].describe()"
   ]
  },
  {
   "cell_type": "code",
   "execution_count": 40,
   "id": "192db94e",
   "metadata": {},
   "outputs": [
    {
     "data": {
      "text/plain": [
       "<matplotlib.collections.PathCollection at 0x7fed179c2c10>"
      ]
     },
     "execution_count": 40,
     "metadata": {},
     "output_type": "execute_result"
    },
    {
     "data": {
      "image/png": "[encoded data removed]",
      "text/plain": [
       "<Figure size 432x288 with 1 Axes>"
      ]
     },
     "metadata": {
      "needs_background": "light"
     },
     "output_type": "display_data"
    }
   ],
   "source": [
    "plt.scatter(A, b)"
   ]
  },
  {
   "cell_type": "code",
   "execution_count": 74,
   "id": "c10280e6",
   "metadata": {},
   "outputs": [
    {
     "data": {
      "text/plain": [
       "<matplotlib.collections.PathCollection at 0x7fed18630490>"
      ]
     },
     "execution_count": 74,
     "metadata": {},
     "output_type": "execute_result"
    },
    {
     "data": {
      "image/png": "[encoded data removed]",
      "text/plain": [
       "<Figure size 432x288 with 1 Axes>"
      ]
     },
     "metadata": {
      "needs_background": "light"
     },
     "output_type": "display_data"
    }
   ],
   "source": [
    "plt.scatter(A, spy[\"%Gain\"])"
   ]
  },
  {
   "cell_type": "code",
   "execution_count": 55,
   "id": "eda7e045",
   "metadata": {},
   "outputs": [
    {
     "data": {
      "text/plain": [
       "<matplotlib.collections.PathCollection at 0x7fed17ef5850>"
      ]
     },
     "execution_count": 55,
     "metadata": {},
     "output_type": "execute_result"
    },
    {
     "data": {
      "image/png": "[encoded data removed]",
      "text/plain": [
       "<Figure size 432x288 with 1 Axes>"
      ]
     },
     "metadata": {
      "needs_background": "light"
     },
     "output_type": "display_data"
    }
   ],
   "source": [
    "plt.scatter(b, y)"
   ]
  },
  {
   "cell_type": "code",
   "execution_count": 48,
   "id": "44f8eb18",
   "metadata": {},
   "outputs": [],
   "source": [
    "d = spy[[\"NextDay_Volume\"]]"
   ]
  },
  {
   "cell_type": "code",
   "execution_count": 73,
   "id": "a895212f",
   "metadata": {},
   "outputs": [
    {
     "data": {
      "text/plain": [
       "<matplotlib.collections.PathCollection at 0x7fed180920d0>"
      ]
     },
     "execution_count": 73,
     "metadata": {},
     "output_type": "execute_result"
    },
    {
     "data": {
      "image/png": "[encoded data removed]",
      "text/plain": [
       "<Figure size 432x288 with 1 Axes>"
      ]
     },
     "metadata": {
      "needs_background": "light"
     },
     "output_type": "display_data"
    }
   ],
   "source": [
    "plt.scatter(spy[\"Volume\"], d)"
   ]
  },
  {
   "cell_type": "code",
   "execution_count": 37,
   "id": "081f2468",
   "metadata": {},
   "outputs": [
    {
     "data": {
      "text/html": [
       "<div>\n",
       "<style scoped>\n",
       "    .dataframe tbody tr th:only-of-type {\n",
       "        vertical-align: middle;\n",
       "    }\n",
       "\n",
       "    .dataframe tbody tr th {\n",
       "        vertical-align: top;\n",
       "    }\n",
       "\n",
       "    .dataframe thead th {\n",
       "        text-align: right;\n",
       "    }\n",
       "</style>\n",
       "<table border=\"1\" class=\"dataframe\">\n",
       "  <thead>\n",
       "    <tr style=\"text-align: right;\">\n",
       "      <th></th>\n",
       "      <th>Volume</th>\n",
       "    </tr>\n",
       "  </thead>\n",
       "  <tbody>\n",
       "    <tr>\n",
       "      <th>0</th>\n",
       "      <td>115349101</td>\n",
       "    </tr>\n",
       "    <tr>\n",
       "      <th>1</th>\n",
       "      <td>113624490</td>\n",
       "    </tr>\n",
       "    <tr>\n",
       "      <th>2</th>\n",
       "      <td>73778646</td>\n",
       "    </tr>\n",
       "    <tr>\n",
       "      <th>3</th>\n",
       "      <td>90686552</td>\n",
       "    </tr>\n",
       "    <tr>\n",
       "      <th>4</th>\n",
       "      <td>97588644</td>\n",
       "    </tr>\n",
       "    <tr>\n",
       "      <th>...</th>\n",
       "      <td>...</td>\n",
       "    </tr>\n",
       "    <tr>\n",
       "      <th>247</th>\n",
       "      <td>93972655</td>\n",
       "    </tr>\n",
       "    <tr>\n",
       "      <th>248</th>\n",
       "      <td>95636277</td>\n",
       "    </tr>\n",
       "    <tr>\n",
       "      <th>249</th>\n",
       "      <td>95729188</td>\n",
       "    </tr>\n",
       "    <tr>\n",
       "      <th>250</th>\n",
       "      <td>106219117</td>\n",
       "    </tr>\n",
       "    <tr>\n",
       "      <th>251</th>\n",
       "      <td>144954805</td>\n",
       "    </tr>\n",
       "  </tbody>\n",
       "</table>\n",
       "<p>252 rows × 1 columns</p>\n",
       "</div>"
      ],
      "text/plain": [
       "        Volume\n",
       "0    115349101\n",
       "1    113624490\n",
       "2     73778646\n",
       "3     90686552\n",
       "4     97588644\n",
       "..         ...\n",
       "247   93972655\n",
       "248   95636277\n",
       "249   95729188\n",
       "250  106219117\n",
       "251  144954805\n",
       "\n",
       "[252 rows x 1 columns]"
      ]
     },
     "execution_count": 37,
     "metadata": {},
     "output_type": "execute_result"
    }
   ],
   "source": [
    "A"
   ]
  },
  {
   "cell_type": "code",
   "execution_count": 38,
   "id": "8ff43435",
   "metadata": {},
   "outputs": [
    {
     "ename": "NameError",
     "evalue": "name 'log' is not defined",
     "output_type": "error",
     "traceback": [
      "\u001b[0;31m---------------------------------------------------------------------------\u001b[0m",
      "\u001b[0;31mNameError\u001b[0m                                 Traceback (most recent call last)",
      "\u001b[0;32m/var/folders/g3/164q6cz52jv0sjllnsg7jdsm0000gn/T/ipykernel_62779/1694072578.py\u001b[0m in \u001b[0;36m<module>\u001b[0;34m\u001b[0m\n\u001b[0;32m----> 1\u001b[0;31m \u001b[0mplt\u001b[0m\u001b[0;34m.\u001b[0m\u001b[0mscatter\u001b[0m\u001b[0;34m(\u001b[0m\u001b[0mb\u001b[0m\u001b[0;34m,\u001b[0m \u001b[0mlog\u001b[0m\u001b[0;34m(\u001b[0m\u001b[0mA\u001b[0m\u001b[0;34m)\u001b[0m\u001b[0;34m)\u001b[0m\u001b[0;34m\u001b[0m\u001b[0;34m\u001b[0m\u001b[0m\n\u001b[0m",
      "\u001b[0;31mNameError\u001b[0m: name 'log' is not defined"
     ]
    }
   ],
   "source": [
    "plt.scatter(b, log(A))"
   ]
  },
  {
   "cell_type": "code",
   "execution_count": 28,
   "id": "52b760fe",
   "metadata": {},
   "outputs": [],
   "source": [
    "model_2 = LinearRegression"
   ]
  },
  {
   "cell_type": "code",
   "execution_count": 33,
   "id": "5b87811b",
   "metadata": {},
   "outputs": [
    {
     "ename": "TypeError",
     "evalue": "fit() missing 1 required positional argument: 'y'",
     "output_type": "error",
     "traceback": [
      "\u001b[0;31m---------------------------------------------------------------------------\u001b[0m",
      "\u001b[0;31mTypeError\u001b[0m                                 Traceback (most recent call last)",
      "\u001b[0;32m/var/folders/g3/164q6cz52jv0sjllnsg7jdsm0000gn/T/ipykernel_62779/2650640641.py\u001b[0m in \u001b[0;36m<module>\u001b[0;34m\u001b[0m\n\u001b[0;32m----> 1\u001b[0;31m \u001b[0mmodel_2\u001b[0m\u001b[0;34m.\u001b[0m\u001b[0mfit\u001b[0m\u001b[0;34m(\u001b[0m\u001b[0mA\u001b[0m\u001b[0;34m,\u001b[0m\u001b[0my\u001b[0m\u001b[0;34m)\u001b[0m\u001b[0;34m\u001b[0m\u001b[0;34m\u001b[0m\u001b[0m\n\u001b[0m",
      "\u001b[0;31mTypeError\u001b[0m: fit() missing 1 required positional argument: 'y'"
     ]
    }
   ],
   "source": [
    "model_2.fit(A,y)"
   ]
  },
  {
   "cell_type": "code",
   "execution_count": null,
   "id": "dfa18eae",
   "metadata": {},
   "outputs": [],
   "source": []
  },
  {
   "cell_type": "code",
   "execution_count": null,
   "id": "2b9bf54c",
   "metadata": {},
   "outputs": [],
   "source": []
  },
  {
   "cell_type": "code",
   "execution_count": null,
   "id": "7c2db788",
   "metadata": {},
   "outputs": [],
   "source": []
  },
  {
   "cell_type": "code",
   "execution_count": 11,
   "id": "40f3e6c1",
   "metadata": {},
   "outputs": [],
   "source": [
    "X = X.values.reshape(-1,2)"
   ]
  },
  {
   "cell_type": "code",
   "execution_count": 12,
   "id": "412af77d",
   "metadata": {},
   "outputs": [
    {
     "data": {
      "text/plain": [
       "array([[1.15349101e+08, 5.97000000e+00],\n",
       "       [1.13624490e+08, 4.41900000e+00],\n",
       "       [7.37786460e+07, 4.10000000e+00],\n",
       "       [9.06865520e+07, 4.80000000e+00],\n",
       "       [9.75886440e+07, 5.28000000e+00]])"
      ]
     },
     "execution_count": 12,
     "metadata": {},
     "output_type": "execute_result"
    }
   ],
   "source": [
    "X[:5]"
   ]
  },
  {
   "cell_type": "code",
   "execution_count": 13,
   "id": "04d16215",
   "metadata": {},
   "outputs": [
    {
     "data": {
      "text/plain": [
       "(252, 2)"
      ]
     },
     "execution_count": 13,
     "metadata": {},
     "output_type": "execute_result"
    }
   ],
   "source": [
    "X.shape"
   ]
  },
  {
   "cell_type": "code",
   "execution_count": 14,
   "id": "25ea33e7",
   "metadata": {},
   "outputs": [],
   "source": [
    "model = LinearRegression()"
   ]
  },
  {
   "cell_type": "code",
   "execution_count": 15,
   "id": "ee12be0a",
   "metadata": {},
   "outputs": [
    {
     "data": {
      "text/plain": [
       "LinearRegression()"
      ]
     },
     "execution_count": 15,
     "metadata": {},
     "output_type": "execute_result"
    }
   ],
   "source": [
    "model.fit(X, y)"
   ]
  },
  {
   "cell_type": "code",
   "execution_count": 16,
   "id": "70022b4a",
   "metadata": {},
   "outputs": [
    {
     "name": "stdout",
     "output_type": "stream",
     "text": [
      "(252, 1)\n"
     ]
    }
   ],
   "source": [
    "y_pred = model.predict(X)\n",
    "print(y_pred.shape)"
   ]
  },
  {
   "cell_type": "code",
   "execution_count": 17,
   "id": "05fe2b7a",
   "metadata": {},
   "outputs": [
    {
     "data": {
      "text/plain": [
       "LogisticRegression(random_state=1)"
      ]
     },
     "execution_count": 17,
     "metadata": {},
     "output_type": "execute_result"
    }
   ],
   "source": [
    "from sklearn.linear_model import LogisticRegression\n",
    "classifier = LogisticRegression(solver='lbfgs', random_state=1)\n",
    "classifier"
   ]
  },
  {
   "cell_type": "code",
   "execution_count": 18,
   "id": "a485d763",
   "metadata": {},
   "outputs": [],
   "source": [
    "from sklearn.model_selection import train_test_split\n",
    "X_train, X_test, y_train, y_test = train_test_split(X, y, random_state=1)"
   ]
  },
  {
   "cell_type": "code",
   "execution_count": 19,
   "id": "493f8524",
   "metadata": {},
   "outputs": [
    {
     "name": "stderr",
     "output_type": "stream",
     "text": [
      "/Users/evanbruno/opt/anaconda3/envs/mlenv/lib/python3.7/site-packages/sklearn/utils/validation.py:993: DataConversionWarning: A column-vector y was passed when a 1d array was expected. Please change the shape of y to (n_samples, ), for example using ravel().\n",
      "  y = column_or_1d(y, warn=True)\n"
     ]
    },
    {
     "ename": "ValueError",
     "evalue": "Unknown label type: 'continuous'",
     "output_type": "error",
     "traceback": [
      "\u001b[0;31m---------------------------------------------------------------------------\u001b[0m",
      "\u001b[0;31mValueError\u001b[0m                                Traceback (most recent call last)",
      "\u001b[0;32m/var/folders/g3/164q6cz52jv0sjllnsg7jdsm0000gn/T/ipykernel_8029/3959894982.py\u001b[0m in \u001b[0;36m<module>\u001b[0;34m\u001b[0m\n\u001b[0;32m----> 1\u001b[0;31m \u001b[0mclassifier\u001b[0m\u001b[0;34m.\u001b[0m\u001b[0mfit\u001b[0m\u001b[0;34m(\u001b[0m\u001b[0mX_train\u001b[0m\u001b[0;34m,\u001b[0m \u001b[0my_train\u001b[0m\u001b[0;34m)\u001b[0m\u001b[0;34m\u001b[0m\u001b[0;34m\u001b[0m\u001b[0m\n\u001b[0m",
      "\u001b[0;32m~/opt/anaconda3/envs/mlenv/lib/python3.7/site-packages/sklearn/linear_model/_logistic.py\u001b[0m in \u001b[0;36mfit\u001b[0;34m(self, X, y, sample_weight)\u001b[0m\n\u001b[1;32m   1514\u001b[0m             \u001b[0maccept_large_sparse\u001b[0m\u001b[0;34m=\u001b[0m\u001b[0msolver\u001b[0m \u001b[0;32mnot\u001b[0m \u001b[0;32min\u001b[0m \u001b[0;34m[\u001b[0m\u001b[0;34m\"liblinear\"\u001b[0m\u001b[0;34m,\u001b[0m \u001b[0;34m\"sag\"\u001b[0m\u001b[0;34m,\u001b[0m \u001b[0;34m\"saga\"\u001b[0m\u001b[0;34m]\u001b[0m\u001b[0;34m,\u001b[0m\u001b[0;34m\u001b[0m\u001b[0;34m\u001b[0m\u001b[0m\n\u001b[1;32m   1515\u001b[0m         )\n\u001b[0;32m-> 1516\u001b[0;31m         \u001b[0mcheck_classification_targets\u001b[0m\u001b[0;34m(\u001b[0m\u001b[0my\u001b[0m\u001b[0;34m)\u001b[0m\u001b[0;34m\u001b[0m\u001b[0;34m\u001b[0m\u001b[0m\n\u001b[0m\u001b[1;32m   1517\u001b[0m         \u001b[0mself\u001b[0m\u001b[0;34m.\u001b[0m\u001b[0mclasses_\u001b[0m \u001b[0;34m=\u001b[0m \u001b[0mnp\u001b[0m\u001b[0;34m.\u001b[0m\u001b[0munique\u001b[0m\u001b[0;34m(\u001b[0m\u001b[0my\u001b[0m\u001b[0;34m)\u001b[0m\u001b[0;34m\u001b[0m\u001b[0;34m\u001b[0m\u001b[0m\n\u001b[1;32m   1518\u001b[0m \u001b[0;34m\u001b[0m\u001b[0m\n",
      "\u001b[0;32m~/opt/anaconda3/envs/mlenv/lib/python3.7/site-packages/sklearn/utils/multiclass.py\u001b[0m in \u001b[0;36mcheck_classification_targets\u001b[0;34m(y)\u001b[0m\n\u001b[1;32m    195\u001b[0m         \u001b[0;34m\"multilabel-sequences\"\u001b[0m\u001b[0;34m,\u001b[0m\u001b[0;34m\u001b[0m\u001b[0;34m\u001b[0m\u001b[0m\n\u001b[1;32m    196\u001b[0m     ]:\n\u001b[0;32m--> 197\u001b[0;31m         \u001b[0;32mraise\u001b[0m \u001b[0mValueError\u001b[0m\u001b[0;34m(\u001b[0m\u001b[0;34m\"Unknown label type: %r\"\u001b[0m \u001b[0;34m%\u001b[0m \u001b[0my_type\u001b[0m\u001b[0;34m)\u001b[0m\u001b[0;34m\u001b[0m\u001b[0;34m\u001b[0m\u001b[0m\n\u001b[0m\u001b[1;32m    198\u001b[0m \u001b[0;34m\u001b[0m\u001b[0m\n\u001b[1;32m    199\u001b[0m \u001b[0;34m\u001b[0m\u001b[0m\n",
      "\u001b[0;31mValueError\u001b[0m: Unknown label type: 'continuous'"
     ]
    }
   ],
   "source": [
    "classifier.fit(X_train, y_train)"
   ]
  },
  {
   "cell_type": "code",
   "execution_count": 20,
   "id": "ad8afafd",
   "metadata": {},
   "outputs": [
    {
     "data": {
      "text/plain": [
       "LogisticRegression()"
      ]
     },
     "execution_count": 20,
     "metadata": {},
     "output_type": "execute_result"
    }
   ],
   "source": [
    "from sklearn.linear_model import LogisticRegression\n",
    "classifier = LogisticRegression()\n",
    "classifier"
   ]
  },
  {
   "cell_type": "code",
   "execution_count": 21,
   "id": "25fa4610",
   "metadata": {},
   "outputs": [],
   "source": [
    "X = spy[[\"Open\",\"Close\", \"High\", \"Low\", \"Volume\", \"Range of the day\"]]\n",
    "y = spy[\"R/G\"]"
   ]
  },
  {
   "cell_type": "code",
   "execution_count": 22,
   "id": "0c7f03bd",
   "metadata": {},
   "outputs": [
    {
     "data": {
      "text/html": [
       "<div>\n",
       "<style scoped>\n",
       "    .dataframe tbody tr th:only-of-type {\n",
       "        vertical-align: middle;\n",
       "    }\n",
       "\n",
       "    .dataframe tbody tr th {\n",
       "        vertical-align: top;\n",
       "    }\n",
       "\n",
       "    .dataframe thead th {\n",
       "        text-align: right;\n",
       "    }\n",
       "</style>\n",
       "<table border=\"1\" class=\"dataframe\">\n",
       "  <thead>\n",
       "    <tr style=\"text-align: right;\">\n",
       "      <th></th>\n",
       "      <th>Datetime</th>\n",
       "      <th>Open</th>\n",
       "      <th>Close</th>\n",
       "      <th>High</th>\n",
       "      <th>Low</th>\n",
       "      <th>Volume</th>\n",
       "      <th>Previous_Low</th>\n",
       "      <th>NextDay_open</th>\n",
       "      <th>NextDay_Volume</th>\n",
       "      <th>Range</th>\n",
       "      <th>...</th>\n",
       "      <th>mean</th>\n",
       "      <th>75_percentile</th>\n",
       "      <th>Max</th>\n",
       "      <th>50dayEWM</th>\n",
       "      <th>100dayEWM</th>\n",
       "      <th>10dayEWM</th>\n",
       "      <th>Gain_Loss</th>\n",
       "      <th>Gain_of_Day</th>\n",
       "      <th>Gain_per_volume</th>\n",
       "      <th>Range_per_Volume</th>\n",
       "    </tr>\n",
       "  </thead>\n",
       "  <tbody>\n",
       "    <tr>\n",
       "      <th>0</th>\n",
       "      <td>2021-03-17 22:00:00</td>\n",
       "      <td>394.475</td>\n",
       "      <td>391.48</td>\n",
       "      <td>396.720</td>\n",
       "      <td>390.75</td>\n",
       "      <td>115349101</td>\n",
       "      <td>393.30</td>\n",
       "      <td>389.88</td>\n",
       "      <td>113624490.0</td>\n",
       "      <td>75_percentile</td>\n",
       "      <td>...</td>\n",
       "      <td>NaN</td>\n",
       "      <td>390.75</td>\n",
       "      <td>NaN</td>\n",
       "      <td>391.480000</td>\n",
       "      <td>391.480000</td>\n",
       "      <td>391.480000</td>\n",
       "      <td>-1.60</td>\n",
       "      <td>-2.995</td>\n",
       "      <td>-0.259647</td>\n",
       "      <td>0.517559</td>\n",
       "    </tr>\n",
       "    <tr>\n",
       "      <th>1</th>\n",
       "      <td>2021-03-18 22:00:00</td>\n",
       "      <td>389.880</td>\n",
       "      <td>389.48</td>\n",
       "      <td>391.569</td>\n",
       "      <td>387.15</td>\n",
       "      <td>113624490</td>\n",
       "      <td>390.75</td>\n",
       "      <td>390.03</td>\n",
       "      <td>73778646.0</td>\n",
       "      <td>75_percentile</td>\n",
       "      <td>...</td>\n",
       "      <td>NaN</td>\n",
       "      <td>387.15</td>\n",
       "      <td>NaN</td>\n",
       "      <td>391.401569</td>\n",
       "      <td>391.440396</td>\n",
       "      <td>391.116364</td>\n",
       "      <td>0.55</td>\n",
       "      <td>-0.400</td>\n",
       "      <td>-0.035204</td>\n",
       "      <td>0.388913</td>\n",
       "    </tr>\n",
       "    <tr>\n",
       "      <th>2</th>\n",
       "      <td>2021-03-21 22:00:00</td>\n",
       "      <td>390.030</td>\n",
       "      <td>392.59</td>\n",
       "      <td>394.070</td>\n",
       "      <td>389.97</td>\n",
       "      <td>73778646</td>\n",
       "      <td>387.15</td>\n",
       "      <td>391.91</td>\n",
       "      <td>90686552.0</td>\n",
       "      <td>mean</td>\n",
       "      <td>...</td>\n",
       "      <td>389.97</td>\n",
       "      <td>NaN</td>\n",
       "      <td>NaN</td>\n",
       "      <td>391.448174</td>\n",
       "      <td>391.463160</td>\n",
       "      <td>391.384298</td>\n",
       "      <td>-0.68</td>\n",
       "      <td>2.560</td>\n",
       "      <td>0.346984</td>\n",
       "      <td>0.555716</td>\n",
       "    </tr>\n",
       "    <tr>\n",
       "      <th>3</th>\n",
       "      <td>2021-03-22 22:00:00</td>\n",
       "      <td>391.910</td>\n",
       "      <td>389.50</td>\n",
       "      <td>393.460</td>\n",
       "      <td>388.66</td>\n",
       "      <td>90686552</td>\n",
       "      <td>389.97</td>\n",
       "      <td>391.00</td>\n",
       "      <td>97588644.0</td>\n",
       "      <td>75_percentile</td>\n",
       "      <td>...</td>\n",
       "      <td>NaN</td>\n",
       "      <td>388.66</td>\n",
       "      <td>NaN</td>\n",
       "      <td>391.371775</td>\n",
       "      <td>391.424286</td>\n",
       "      <td>391.041698</td>\n",
       "      <td>1.50</td>\n",
       "      <td>-2.410</td>\n",
       "      <td>-0.265751</td>\n",
       "      <td>0.529296</td>\n",
       "    </tr>\n",
       "    <tr>\n",
       "      <th>4</th>\n",
       "      <td>2021-03-23 22:00:00</td>\n",
       "      <td>391.000</td>\n",
       "      <td>387.52</td>\n",
       "      <td>392.750</td>\n",
       "      <td>387.47</td>\n",
       "      <td>97588644</td>\n",
       "      <td>388.66</td>\n",
       "      <td>385.98</td>\n",
       "      <td>116128622.0</td>\n",
       "      <td>75_percentile</td>\n",
       "      <td>...</td>\n",
       "      <td>NaN</td>\n",
       "      <td>387.47</td>\n",
       "      <td>NaN</td>\n",
       "      <td>391.220725</td>\n",
       "      <td>391.346973</td>\n",
       "      <td>390.401389</td>\n",
       "      <td>-1.54</td>\n",
       "      <td>-3.480</td>\n",
       "      <td>-0.356599</td>\n",
       "      <td>0.541047</td>\n",
       "    </tr>\n",
       "    <tr>\n",
       "      <th>...</th>\n",
       "      <td>...</td>\n",
       "      <td>...</td>\n",
       "      <td>...</td>\n",
       "      <td>...</td>\n",
       "      <td>...</td>\n",
       "      <td>...</td>\n",
       "      <td>...</td>\n",
       "      <td>...</td>\n",
       "      <td>...</td>\n",
       "      <td>...</td>\n",
       "      <td>...</td>\n",
       "      <td>...</td>\n",
       "      <td>...</td>\n",
       "      <td>...</td>\n",
       "      <td>...</td>\n",
       "      <td>...</td>\n",
       "      <td>...</td>\n",
       "      <td>...</td>\n",
       "      <td>...</td>\n",
       "      <td>...</td>\n",
       "      <td>...</td>\n",
       "    </tr>\n",
       "    <tr>\n",
       "      <th>247</th>\n",
       "      <td>2022-03-09 22:00:00</td>\n",
       "      <td>422.520</td>\n",
       "      <td>425.48</td>\n",
       "      <td>426.430</td>\n",
       "      <td>420.44</td>\n",
       "      <td>93972655</td>\n",
       "      <td>422.82</td>\n",
       "      <td>428.12</td>\n",
       "      <td>95636277.0</td>\n",
       "      <td>75_percentile</td>\n",
       "      <td>...</td>\n",
       "      <td>NaN</td>\n",
       "      <td>420.44</td>\n",
       "      <td>NaN</td>\n",
       "      <td>442.861380</td>\n",
       "      <td>447.017783</td>\n",
       "      <td>428.265642</td>\n",
       "      <td>2.64</td>\n",
       "      <td>2.960</td>\n",
       "      <td>0.314985</td>\n",
       "      <td>0.637419</td>\n",
       "    </tr>\n",
       "    <tr>\n",
       "      <th>248</th>\n",
       "      <td>2022-03-10 22:00:00</td>\n",
       "      <td>428.120</td>\n",
       "      <td>420.07</td>\n",
       "      <td>428.770</td>\n",
       "      <td>419.53</td>\n",
       "      <td>95636277</td>\n",
       "      <td>420.44</td>\n",
       "      <td>420.89</td>\n",
       "      <td>95729188.0</td>\n",
       "      <td>75_percentile</td>\n",
       "      <td>...</td>\n",
       "      <td>NaN</td>\n",
       "      <td>419.53</td>\n",
       "      <td>NaN</td>\n",
       "      <td>441.967600</td>\n",
       "      <td>446.484164</td>\n",
       "      <td>426.775525</td>\n",
       "      <td>0.82</td>\n",
       "      <td>-8.050</td>\n",
       "      <td>-0.841731</td>\n",
       "      <td>0.966161</td>\n",
       "    </tr>\n",
       "    <tr>\n",
       "      <th>249</th>\n",
       "      <td>2022-03-13 22:00:00</td>\n",
       "      <td>420.890</td>\n",
       "      <td>417.00</td>\n",
       "      <td>424.550</td>\n",
       "      <td>415.79</td>\n",
       "      <td>95729188</td>\n",
       "      <td>419.53</td>\n",
       "      <td>419.77</td>\n",
       "      <td>106219117.0</td>\n",
       "      <td>75_percentile</td>\n",
       "      <td>...</td>\n",
       "      <td>NaN</td>\n",
       "      <td>415.79</td>\n",
       "      <td>NaN</td>\n",
       "      <td>440.988479</td>\n",
       "      <td>445.900319</td>\n",
       "      <td>424.998157</td>\n",
       "      <td>2.77</td>\n",
       "      <td>-3.890</td>\n",
       "      <td>-0.406355</td>\n",
       "      <td>0.915081</td>\n",
       "    </tr>\n",
       "    <tr>\n",
       "      <th>250</th>\n",
       "      <td>2022-03-14 22:00:00</td>\n",
       "      <td>419.770</td>\n",
       "      <td>426.17</td>\n",
       "      <td>426.840</td>\n",
       "      <td>418.42</td>\n",
       "      <td>106219117</td>\n",
       "      <td>415.79</td>\n",
       "      <td>429.89</td>\n",
       "      <td>144954805.0</td>\n",
       "      <td>75_percentile</td>\n",
       "      <td>...</td>\n",
       "      <td>NaN</td>\n",
       "      <td>418.42</td>\n",
       "      <td>NaN</td>\n",
       "      <td>440.407362</td>\n",
       "      <td>445.509619</td>\n",
       "      <td>425.211219</td>\n",
       "      <td>3.72</td>\n",
       "      <td>6.400</td>\n",
       "      <td>0.602528</td>\n",
       "      <td>0.792701</td>\n",
       "    </tr>\n",
       "    <tr>\n",
       "      <th>251</th>\n",
       "      <td>2022-03-15 22:00:00</td>\n",
       "      <td>429.890</td>\n",
       "      <td>435.62</td>\n",
       "      <td>435.680</td>\n",
       "      <td>424.80</td>\n",
       "      <td>144954805</td>\n",
       "      <td>418.42</td>\n",
       "      <td>433.59</td>\n",
       "      <td>102676870.0</td>\n",
       "      <td>75_percentile</td>\n",
       "      <td>...</td>\n",
       "      <td>NaN</td>\n",
       "      <td>424.80</td>\n",
       "      <td>NaN</td>\n",
       "      <td>440.219622</td>\n",
       "      <td>445.313785</td>\n",
       "      <td>427.103725</td>\n",
       "      <td>-2.03</td>\n",
       "      <td>5.730</td>\n",
       "      <td>0.395296</td>\n",
       "      <td>0.750579</td>\n",
       "    </tr>\n",
       "  </tbody>\n",
       "</table>\n",
       "<p>252 rows × 24 columns</p>\n",
       "</div>"
      ],
      "text/plain": [
       "                Datetime     Open   Close     High     Low     Volume  \\\n",
       "0    2021-03-17 22:00:00  394.475  391.48  396.720  390.75  115349101   \n",
       "1    2021-03-18 22:00:00  389.880  389.48  391.569  387.15  113624490   \n",
       "2    2021-03-21 22:00:00  390.030  392.59  394.070  389.97   73778646   \n",
       "3    2021-03-22 22:00:00  391.910  389.50  393.460  388.66   90686552   \n",
       "4    2021-03-23 22:00:00  391.000  387.52  392.750  387.47   97588644   \n",
       "..                   ...      ...     ...      ...     ...        ...   \n",
       "247  2022-03-09 22:00:00  422.520  425.48  426.430  420.44   93972655   \n",
       "248  2022-03-10 22:00:00  428.120  420.07  428.770  419.53   95636277   \n",
       "249  2022-03-13 22:00:00  420.890  417.00  424.550  415.79   95729188   \n",
       "250  2022-03-14 22:00:00  419.770  426.17  426.840  418.42  106219117   \n",
       "251  2022-03-15 22:00:00  429.890  435.62  435.680  424.80  144954805   \n",
       "\n",
       "     Previous_Low  NextDay_open  NextDay_Volume          Range  ...    mean  \\\n",
       "0          393.30        389.88     113624490.0  75_percentile  ...     NaN   \n",
       "1          390.75        390.03      73778646.0  75_percentile  ...     NaN   \n",
       "2          387.15        391.91      90686552.0           mean  ...  389.97   \n",
       "3          389.97        391.00      97588644.0  75_percentile  ...     NaN   \n",
       "4          388.66        385.98     116128622.0  75_percentile  ...     NaN   \n",
       "..            ...           ...             ...            ...  ...     ...   \n",
       "247        422.82        428.12      95636277.0  75_percentile  ...     NaN   \n",
       "248        420.44        420.89      95729188.0  75_percentile  ...     NaN   \n",
       "249        419.53        419.77     106219117.0  75_percentile  ...     NaN   \n",
       "250        415.79        429.89     144954805.0  75_percentile  ...     NaN   \n",
       "251        418.42        433.59     102676870.0  75_percentile  ...     NaN   \n",
       "\n",
       "     75_percentile  Max    50dayEWM   100dayEWM    10dayEWM  Gain_Loss  \\\n",
       "0           390.75  NaN  391.480000  391.480000  391.480000      -1.60   \n",
       "1           387.15  NaN  391.401569  391.440396  391.116364       0.55   \n",
       "2              NaN  NaN  391.448174  391.463160  391.384298      -0.68   \n",
       "3           388.66  NaN  391.371775  391.424286  391.041698       1.50   \n",
       "4           387.47  NaN  391.220725  391.346973  390.401389      -1.54   \n",
       "..             ...  ...         ...         ...         ...        ...   \n",
       "247         420.44  NaN  442.861380  447.017783  428.265642       2.64   \n",
       "248         419.53  NaN  441.967600  446.484164  426.775525       0.82   \n",
       "249         415.79  NaN  440.988479  445.900319  424.998157       2.77   \n",
       "250         418.42  NaN  440.407362  445.509619  425.211219       3.72   \n",
       "251         424.80  NaN  440.219622  445.313785  427.103725      -2.03   \n",
       "\n",
       "     Gain_of_Day  Gain_per_volume  Range_per_Volume  \n",
       "0         -2.995        -0.259647          0.517559  \n",
       "1         -0.400        -0.035204          0.388913  \n",
       "2          2.560         0.346984          0.555716  \n",
       "3         -2.410        -0.265751          0.529296  \n",
       "4         -3.480        -0.356599          0.541047  \n",
       "..           ...              ...               ...  \n",
       "247        2.960         0.314985          0.637419  \n",
       "248       -8.050        -0.841731          0.966161  \n",
       "249       -3.890        -0.406355          0.915081  \n",
       "250        6.400         0.602528          0.792701  \n",
       "251        5.730         0.395296          0.750579  \n",
       "\n",
       "[252 rows x 24 columns]"
      ]
     },
     "execution_count": 22,
     "metadata": {},
     "output_type": "execute_result"
    }
   ],
   "source": [
    "spy"
   ]
  },
  {
   "cell_type": "code",
   "execution_count": 47,
   "id": "64b5d85e",
   "metadata": {},
   "outputs": [],
   "source": [
    "from sklearn.model_selection import train_test_split\n",
    "\n",
    "X_train, X_test, y_train, y_test = train_test_split(X, y)"
   ]
  },
  {
   "cell_type": "code",
   "execution_count": 48,
   "id": "25f6ddf3",
   "metadata": {},
   "outputs": [
    {
     "data": {
      "text/plain": [
       "LogisticRegression()"
      ]
     },
     "execution_count": 48,
     "metadata": {},
     "output_type": "execute_result"
    }
   ],
   "source": [
    "classifier.fit(X_train, y_train)"
   ]
  },
  {
   "cell_type": "code",
   "execution_count": 49,
   "id": "55d4d827",
   "metadata": {},
   "outputs": [],
   "source": [
    "prediction = classifier.predict(X_test)"
   ]
  },
  {
   "cell_type": "code",
   "execution_count": 50,
   "id": "d0cb4ac7",
   "metadata": {},
   "outputs": [
    {
     "name": "stdout",
     "output_type": "stream",
     "text": [
      "0.47619047619047616\n"
     ]
    }
   ],
   "source": [
    "print(classifier.score(X_test, y_test))"
   ]
  },
  {
   "cell_type": "code",
   "execution_count": 4,
   "id": "f3334ca5",
   "metadata": {},
   "outputs": [
    {
     "ename": "NameError",
     "evalue": "name 'spy' is not defined",
     "output_type": "error",
     "traceback": [
      "\u001b[0;31m---------------------------------------------------------------------------\u001b[0m",
      "\u001b[0;31mNameError\u001b[0m                                 Traceback (most recent call last)",
      "\u001b[0;32m/var/folders/g3/164q6cz52jv0sjllnsg7jdsm0000gn/T/ipykernel_1471/3987601698.py\u001b[0m in \u001b[0;36m<module>\u001b[0;34m\u001b[0m\n\u001b[0;32m----> 1\u001b[0;31m \u001b[0mX\u001b[0m \u001b[0;34m=\u001b[0m \u001b[0mspy\u001b[0m\u001b[0;34m[\u001b[0m\u001b[0;34m[\u001b[0m\u001b[0;34m\"Volume\"\u001b[0m\u001b[0;34m,\u001b[0m \u001b[0;34m\"High\"\u001b[0m\u001b[0;34m,\u001b[0m \u001b[0;34m\"Low\"\u001b[0m\u001b[0;34m,\u001b[0m \u001b[0;34m\"Open\"\u001b[0m\u001b[0;34m,\u001b[0m \u001b[0;34m\"Close\"\u001b[0m\u001b[0;34m,\u001b[0m \u001b[0;34m\"50dayEWM\"\u001b[0m\u001b[0;34m,\u001b[0m \u001b[0;34m\"100dayEWM\"\u001b[0m\u001b[0;34m,\u001b[0m \u001b[0;34m\"10dayEWM\"\u001b[0m\u001b[0;34m,\u001b[0m \u001b[0;34m\"Previous_Low\"\u001b[0m\u001b[0;34m]\u001b[0m\u001b[0;34m]\u001b[0m\u001b[0;34m\u001b[0m\u001b[0;34m\u001b[0m\u001b[0m\n\u001b[0m\u001b[1;32m      2\u001b[0m \u001b[0my\u001b[0m \u001b[0;34m=\u001b[0m \u001b[0mspy\u001b[0m\u001b[0;34m[\u001b[0m\u001b[0;34m\"R/G\"\u001b[0m\u001b[0;34m]\u001b[0m\u001b[0;34m\u001b[0m\u001b[0;34m\u001b[0m\u001b[0m\n",
      "\u001b[0;31mNameError\u001b[0m: name 'spy' is not defined"
     ]
    }
   ],
   "source": [
    "X = spy[[\"Volume\", \"High\", \"Low\", \"Open\", \"Close\", \"50dayEWM\", \"100dayEWM\", \"10dayEWM\", \"Previous_Low\"]]\n",
    "y = spy[\"R/G\"]"
   ]
  },
  {
   "cell_type": "code",
   "execution_count": 178,
   "id": "dc7dc15b",
   "metadata": {},
   "outputs": [],
   "source": [
    "from sklearn.model_selection import train_test_split\n",
    "\n",
    "X_train, X_test, y_train, y_test = train_test_split(X, y)"
   ]
  },
  {
   "cell_type": "code",
   "execution_count": 131,
   "id": "9f16e1ee",
   "metadata": {},
   "outputs": [
    {
     "data": {
      "text/plain": [
       "LogisticRegression()"
      ]
     },
     "execution_count": 131,
     "metadata": {},
     "output_type": "execute_result"
    }
   ],
   "source": [
    "classifier.fit(X_train, y_train)"
   ]
  },
  {
   "cell_type": "code",
   "execution_count": 132,
   "id": "a0059e97",
   "metadata": {},
   "outputs": [],
   "source": [
    "prediction = classifier.predict(X_test)"
   ]
  },
  {
   "cell_type": "code",
   "execution_count": 133,
   "id": "f6d6b02f",
   "metadata": {},
   "outputs": [
    {
     "name": "stdout",
     "output_type": "stream",
     "text": [
      "0.49206349206349204\n"
     ]
    }
   ],
   "source": [
    "print(classifier.score(X_test, y_test))"
   ]
  },
  {
   "cell_type": "code",
   "execution_count": 134,
   "id": "049917f5",
   "metadata": {},
   "outputs": [
    {
     "data": {
      "text/plain": [
       "0.49206349206349204"
      ]
     },
     "execution_count": 134,
     "metadata": {},
     "output_type": "execute_result"
    }
   ],
   "source": [
    "from sklearn.metrics import accuracy_score\n",
    "accuracy_score(y_test, prediction)"
   ]
  },
  {
   "cell_type": "code",
   "execution_count": 3,
   "id": "8d675f1a",
   "metadata": {},
   "outputs": [
    {
     "ename": "NameError",
     "evalue": "name 'X' is not defined",
     "output_type": "error",
     "traceback": [
      "\u001b[0;31m---------------------------------------------------------------------------\u001b[0m",
      "\u001b[0;31mNameError\u001b[0m                                 Traceback (most recent call last)",
      "\u001b[0;32m/var/folders/g3/164q6cz52jv0sjllnsg7jdsm0000gn/T/ipykernel_1471/1083443295.py\u001b[0m in \u001b[0;36m<module>\u001b[0;34m\u001b[0m\n\u001b[1;32m      1\u001b[0m \u001b[0;32mfrom\u001b[0m \u001b[0msklearn\u001b[0m\u001b[0;34m.\u001b[0m\u001b[0mmodel_selection\u001b[0m \u001b[0;32mimport\u001b[0m \u001b[0mtrain_test_split\u001b[0m\u001b[0;34m\u001b[0m\u001b[0;34m\u001b[0m\u001b[0m\n\u001b[1;32m      2\u001b[0m \u001b[0;34m\u001b[0m\u001b[0m\n\u001b[0;32m----> 3\u001b[0;31m \u001b[0mX_train\u001b[0m\u001b[0;34m,\u001b[0m \u001b[0mX_test\u001b[0m\u001b[0;34m,\u001b[0m \u001b[0my_train\u001b[0m\u001b[0;34m,\u001b[0m \u001b[0my_test\u001b[0m \u001b[0;34m=\u001b[0m \u001b[0mtrain_test_split\u001b[0m\u001b[0;34m(\u001b[0m\u001b[0mX\u001b[0m\u001b[0;34m,\u001b[0m \u001b[0my\u001b[0m\u001b[0;34m)\u001b[0m\u001b[0;34m\u001b[0m\u001b[0;34m\u001b[0m\u001b[0m\n\u001b[0m",
      "\u001b[0;31mNameError\u001b[0m: name 'X' is not defined"
     ]
    }
   ],
   "source": [
    "from sklearn.model_selection import train_test_split\n",
    "\n",
    "X_train, X_test, y_train, y_test = train_test_split(X, y)"
   ]
  },
  {
   "cell_type": "code",
   "execution_count": null,
   "id": "6a158fbb",
   "metadata": {},
   "outputs": [],
   "source": [
    "# Standardize data set\n",
    "scaler = StandardScaler()\n",
    "# Fit X_train data\n",
    "scaler.fit(X_train)\n",
    "#Transform scaled data\n",
    "X_train_scaled = scaler.transform(X_train)\n",
    "X_test_scaled = scaler.transform(X_test)"
   ]
  },
  {
   "cell_type": "code",
   "execution_count": 221,
   "id": "42febf7f",
   "metadata": {},
   "outputs": [],
   "source": [
    "minmax = MinMaxScaler()\n",
    "\n",
    "minmax.fit(X_train)\n",
    "#Transform scaled data\n",
    "X_train_scaled = minmax.transform(X_train)\n",
    "X_test_scaled = minmax.transform(X_test)"
   ]
  },
  {
   "cell_type": "code",
   "execution_count": null,
   "id": "77c8bc6e",
   "metadata": {},
   "outputs": [],
   "source": []
  },
  {
   "cell_type": "code",
   "execution_count": 250,
   "id": "e77ca32a",
   "metadata": {},
   "outputs": [],
   "source": [
    "# Create a random forest classifier.\n",
    "rf_model = RandomForestClassifier(n_estimators=128)\n",
    "\n",
    "# Fitting the model\n",
    "rf_model = rf_model.fit(X_train_scaled, y_train)\n",
    "\n",
    "# Evaluate the model\n",
    "y_pred = rf_model.predict(X_test_scaled)"
   ]
  },
  {
   "cell_type": "code",
   "execution_count": null,
   "id": "daea6f64",
   "metadata": {},
   "outputs": [],
   "source": []
  },
  {
   "cell_type": "code",
   "execution_count": 223,
   "id": "c0539181",
   "metadata": {},
   "outputs": [],
   "source": [
    "from sklearn.ensemble import RandomForestClassifier\n",
    "# Create a random forest classifier.\n",
    "rf_model = RandomForestClassifier(n_estimators=128) "
   ]
  },
  {
   "cell_type": "code",
   "execution_count": 224,
   "id": "a3157b65",
   "metadata": {},
   "outputs": [],
   "source": [
    "# Fitting the model\n",
    "rf_model = rf_model.fit(X_train, y_train)"
   ]
  },
  {
   "cell_type": "code",
   "execution_count": 225,
   "id": "aedbb892",
   "metadata": {},
   "outputs": [],
   "source": [
    "# Making predictions using the testing data.\n",
    "pred = rf_model.predict(X_test)"
   ]
  },
  {
   "cell_type": "code",
   "execution_count": 251,
   "id": "8e8cade7",
   "metadata": {},
   "outputs": [],
   "source": [
    "# Calculating the accuracy score.\n",
    "acc_score = accuracy_score(y_test, y_pred)"
   ]
  },
  {
   "cell_type": "code",
   "execution_count": 242,
   "id": "549ab9bf",
   "metadata": {},
   "outputs": [
    {
     "data": {
      "text/plain": [
       "63"
      ]
     },
     "execution_count": 242,
     "metadata": {},
     "output_type": "execute_result"
    }
   ],
   "source": [
    "len(X_test)"
   ]
  },
  {
   "cell_type": "code",
   "execution_count": 252,
   "id": "9c9ee7c2",
   "metadata": {},
   "outputs": [
    {
     "data": {
      "text/html": [
       "<div>\n",
       "<style scoped>\n",
       "    .dataframe tbody tr th:only-of-type {\n",
       "        vertical-align: middle;\n",
       "    }\n",
       "\n",
       "    .dataframe tbody tr th {\n",
       "        vertical-align: top;\n",
       "    }\n",
       "\n",
       "    .dataframe thead th {\n",
       "        text-align: right;\n",
       "    }\n",
       "</style>\n",
       "<table border=\"1\" class=\"dataframe\">\n",
       "  <thead>\n",
       "    <tr style=\"text-align: right;\">\n",
       "      <th></th>\n",
       "      <th>Prediction</th>\n",
       "      <th>Actual</th>\n",
       "    </tr>\n",
       "  </thead>\n",
       "  <tbody>\n",
       "    <tr>\n",
       "      <th>1368</th>\n",
       "      <td>0</td>\n",
       "      <td>1</td>\n",
       "    </tr>\n",
       "    <tr>\n",
       "      <th>621</th>\n",
       "      <td>0</td>\n",
       "      <td>1</td>\n",
       "    </tr>\n",
       "    <tr>\n",
       "      <th>4501</th>\n",
       "      <td>0</td>\n",
       "      <td>0</td>\n",
       "    </tr>\n",
       "    <tr>\n",
       "      <th>4045</th>\n",
       "      <td>1</td>\n",
       "      <td>0</td>\n",
       "    </tr>\n",
       "    <tr>\n",
       "      <th>1569</th>\n",
       "      <td>0</td>\n",
       "      <td>1</td>\n",
       "    </tr>\n",
       "    <tr>\n",
       "      <th>...</th>\n",
       "      <td>...</td>\n",
       "      <td>...</td>\n",
       "    </tr>\n",
       "    <tr>\n",
       "      <th>1761</th>\n",
       "      <td>1</td>\n",
       "      <td>1</td>\n",
       "    </tr>\n",
       "    <tr>\n",
       "      <th>4740</th>\n",
       "      <td>0</td>\n",
       "      <td>1</td>\n",
       "    </tr>\n",
       "    <tr>\n",
       "      <th>4028</th>\n",
       "      <td>0</td>\n",
       "      <td>1</td>\n",
       "    </tr>\n",
       "    <tr>\n",
       "      <th>3317</th>\n",
       "      <td>1</td>\n",
       "      <td>0</td>\n",
       "    </tr>\n",
       "    <tr>\n",
       "      <th>3370</th>\n",
       "      <td>1</td>\n",
       "      <td>0</td>\n",
       "    </tr>\n",
       "  </tbody>\n",
       "</table>\n",
       "<p>1259 rows × 2 columns</p>\n",
       "</div>"
      ],
      "text/plain": [
       "      Prediction  Actual\n",
       "1368           0       1\n",
       "621            0       1\n",
       "4501           0       0\n",
       "4045           1       0\n",
       "1569           0       1\n",
       "...          ...     ...\n",
       "1761           1       1\n",
       "4740           0       1\n",
       "4028           0       1\n",
       "3317           1       0\n",
       "3370           1       0\n",
       "\n",
       "[1259 rows x 2 columns]"
      ]
     },
     "execution_count": 252,
     "metadata": {},
     "output_type": "execute_result"
    }
   ],
   "source": [
    "pd.DataFrame({\"Prediction\": y_pred, \"Actual\": y_test})"
   ]
  },
  {
   "cell_type": "code",
   "execution_count": 253,
   "id": "98c901c4",
   "metadata": {},
   "outputs": [
    {
     "data": {
      "text/plain": [
       "0.48610007942811756"
      ]
     },
     "execution_count": 253,
     "metadata": {},
     "output_type": "execute_result"
    }
   ],
   "source": [
    "acc_score"
   ]
  },
  {
   "cell_type": "code",
   "execution_count": 255,
   "id": "9b05af67",
   "metadata": {},
   "outputs": [],
   "source": [
    "import tensorflow as tf"
   ]
  },
  {
   "cell_type": "code",
   "execution_count": 1,
   "id": "8fb6ae69",
   "metadata": {},
   "outputs": [
    {
     "ename": "NameError",
     "evalue": "name 'X_train_scaled' is not defined",
     "output_type": "error",
     "traceback": [
      "\u001b[0;31m---------------------------------------------------------------------------\u001b[0m",
      "\u001b[0;31mNameError\u001b[0m                                 Traceback (most recent call last)",
      "\u001b[0;32m/var/folders/g3/164q6cz52jv0sjllnsg7jdsm0000gn/T/ipykernel_1471/3697718832.py\u001b[0m in \u001b[0;36m<module>\u001b[0;34m\u001b[0m\n\u001b[0;32m----> 1\u001b[0;31m \u001b[0mX_train_scaled\u001b[0m\u001b[0;34m[\u001b[0m\u001b[0;36m0\u001b[0m\u001b[0;34m]\u001b[0m\u001b[0;34m\u001b[0m\u001b[0;34m\u001b[0m\u001b[0m\n\u001b[0m",
      "\u001b[0;31mNameError\u001b[0m: name 'X_train_scaled' is not defined"
     ]
    }
   ],
   "source": [
    "X_train_scaled[0]"
   ]
  },
  {
   "cell_type": "code",
   "execution_count": 2,
   "id": "05f946e5",
   "metadata": {},
   "outputs": [
    {
     "ename": "NameError",
     "evalue": "name 'X_train_scaled' is not defined",
     "output_type": "error",
     "traceback": [
      "\u001b[0;31m---------------------------------------------------------------------------\u001b[0m",
      "\u001b[0;31mNameError\u001b[0m                                 Traceback (most recent call last)",
      "\u001b[0;32m/var/folders/g3/164q6cz52jv0sjllnsg7jdsm0000gn/T/ipykernel_1471/1263260336.py\u001b[0m in \u001b[0;36m<module>\u001b[0;34m\u001b[0m\n\u001b[1;32m      1\u001b[0m \u001b[0;32mimport\u001b[0m \u001b[0mtensorflow\u001b[0m \u001b[0;32mas\u001b[0m \u001b[0mtf\u001b[0m\u001b[0;34m\u001b[0m\u001b[0;34m\u001b[0m\u001b[0m\n\u001b[1;32m      2\u001b[0m \u001b[0;31m# Define the model - deep neural net, i.e., the number of input features and hidden nodes for each layer.\u001b[0m\u001b[0;34m\u001b[0m\u001b[0;34m\u001b[0m\u001b[0;34m\u001b[0m\u001b[0m\n\u001b[0;32m----> 3\u001b[0;31m \u001b[0mnumber_input_features\u001b[0m \u001b[0;34m=\u001b[0m \u001b[0mlen\u001b[0m\u001b[0;34m(\u001b[0m\u001b[0mX_train_scaled\u001b[0m\u001b[0;34m[\u001b[0m\u001b[0;36m0\u001b[0m\u001b[0;34m]\u001b[0m\u001b[0;34m)\u001b[0m\u001b[0;34m\u001b[0m\u001b[0;34m\u001b[0m\u001b[0m\n\u001b[0m\u001b[1;32m      4\u001b[0m \u001b[0mhidden_nodes_layer1\u001b[0m \u001b[0;34m=\u001b[0m \u001b[0;36m80\u001b[0m\u001b[0;34m\u001b[0m\u001b[0;34m\u001b[0m\u001b[0m\n\u001b[1;32m      5\u001b[0m \u001b[0mhidden_nodes_layer2\u001b[0m \u001b[0;34m=\u001b[0m \u001b[0;36m30\u001b[0m\u001b[0;34m\u001b[0m\u001b[0;34m\u001b[0m\u001b[0m\n",
      "\u001b[0;31mNameError\u001b[0m: name 'X_train_scaled' is not defined"
     ]
    }
   ],
   "source": [
    "import tensorflow as tf\n",
    "# Define the model - deep neural net, i.e., the number of input features and hidden nodes for each layer.\n",
    "number_input_features = len(X_train_scaled[0])\n",
    "hidden_nodes_layer1 = 80\n",
    "hidden_nodes_layer2 = 30\n",
    "hidden_nodes_layer3 = 10\n",
    "\n",
    "nn = tf.keras.models.Sequential()\n",
    "\n",
    "# First hidden layer\n",
    "nn.add(tf.keras.layers.Dense(units=hidden_nodes_layer1, input_dim = number_input_features, activation=\"relu\"))\n",
    "\n",
    "# Second hidden layer\n",
    "nn.add(tf.keras.layers.Dense(units=hidden_nodes_layer2, activation=\"relu\"))\n",
    "\n",
    "# Third hidden layer\n",
    "nn.add(tf.keras.layers.Dense(units=hidden_nodes_layer3, activation=\"relu\"))\n",
    "\n",
    "# Third hidden layer\n",
    "nn.add(tf.keras.layers.Dense(units=5, activation=\"relu\"))\n",
    "\n",
    "# Output layer\n",
    "nn.add(tf.keras.layers.Dense(units=1, activation=\"sigmoid\"))\n",
    "\n",
    "# Check the structure of the model\n",
    "nn.summary()"
   ]
  },
  {
   "cell_type": "code",
   "execution_count": 273,
   "id": "2bbe1cde",
   "metadata": {},
   "outputs": [],
   "source": [
    "# Compile the model\n",
    "nn.compile(loss=\"binary_crossentropy\", optimizer=\"adam\", metrics=[\"accuracy\"])"
   ]
  },
  {
   "cell_type": "code",
   "execution_count": 274,
   "id": "7e6ad3cf",
   "metadata": {},
   "outputs": [
    {
     "name": "stdout",
     "output_type": "stream",
     "text": [
      "Epoch 1/30\n",
      "118/118 [==============================] - 1s 2ms/step - loss: 0.6922 - accuracy: 0.5408\n",
      "Epoch 2/30\n",
      "118/118 [==============================] - 0s 2ms/step - loss: 0.6896 - accuracy: 0.5541\n",
      "Epoch 3/30\n",
      "118/118 [==============================] - 0s 2ms/step - loss: 0.6885 - accuracy: 0.5541\n",
      "Epoch 4/30\n",
      "118/118 [==============================] - 0s 2ms/step - loss: 0.6879 - accuracy: 0.5541\n",
      "Epoch 5/30\n",
      "118/118 [==============================] - 0s 2ms/step - loss: 0.6876 - accuracy: 0.5541\n",
      "Epoch 6/30\n",
      "118/118 [==============================] - 0s 2ms/step - loss: 0.6875 - accuracy: 0.5541\n",
      "Epoch 7/30\n",
      "118/118 [==============================] - 0s 2ms/step - loss: 0.6875 - accuracy: 0.5541\n",
      "Epoch 8/30\n",
      "118/118 [==============================] - 0s 2ms/step - loss: 0.6874 - accuracy: 0.5541\n",
      "Epoch 9/30\n",
      "118/118 [==============================] - 0s 2ms/step - loss: 0.6874 - accuracy: 0.5541\n",
      "Epoch 10/30\n",
      "118/118 [==============================] - 0s 2ms/step - loss: 0.6873 - accuracy: 0.5541\n",
      "Epoch 11/30\n",
      "118/118 [==============================] - 0s 2ms/step - loss: 0.6873 - accuracy: 0.5541\n",
      "Epoch 12/30\n",
      "118/118 [==============================] - 0s 3ms/step - loss: 0.6873 - accuracy: 0.5541\n",
      "Epoch 13/30\n",
      "118/118 [==============================] - 0s 3ms/step - loss: 0.6873 - accuracy: 0.5541\n",
      "Epoch 14/30\n",
      "118/118 [==============================] - 0s 2ms/step - loss: 0.6873 - accuracy: 0.5541\n",
      "Epoch 15/30\n",
      "118/118 [==============================] - 0s 2ms/step - loss: 0.6873 - accuracy: 0.5541\n",
      "Epoch 16/30\n",
      "118/118 [==============================] - 0s 2ms/step - loss: 0.6873 - accuracy: 0.5541\n",
      "Epoch 17/30\n",
      "118/118 [==============================] - 0s 2ms/step - loss: 0.6873 - accuracy: 0.5541\n",
      "Epoch 18/30\n",
      "118/118 [==============================] - 0s 2ms/step - loss: 0.6873 - accuracy: 0.5541\n",
      "Epoch 19/30\n",
      "118/118 [==============================] - 0s 2ms/step - loss: 0.6873 - accuracy: 0.5541\n",
      "Epoch 20/30\n",
      "118/118 [==============================] - 0s 2ms/step - loss: 0.6874 - accuracy: 0.5541\n",
      "Epoch 21/30\n",
      "118/118 [==============================] - 0s 3ms/step - loss: 0.6873 - accuracy: 0.5541\n",
      "Epoch 22/30\n",
      "118/118 [==============================] - 0s 2ms/step - loss: 0.6873 - accuracy: 0.5541\n",
      "Epoch 23/30\n",
      "118/118 [==============================] - 0s 2ms/step - loss: 0.6873 - accuracy: 0.5541\n",
      "Epoch 24/30\n",
      "118/118 [==============================] - 0s 2ms/step - loss: 0.6873 - accuracy: 0.5541\n",
      "Epoch 25/30\n",
      "118/118 [==============================] - 0s 2ms/step - loss: 0.6873 - accuracy: 0.5541\n",
      "Epoch 26/30\n",
      "118/118 [==============================] - 0s 2ms/step - loss: 0.6873 - accuracy: 0.5541\n",
      "Epoch 27/30\n",
      "118/118 [==============================] - 0s 2ms/step - loss: 0.6873 - accuracy: 0.5541\n",
      "Epoch 28/30\n",
      "118/118 [==============================] - 0s 2ms/step - loss: 0.6873 - accuracy: 0.5541\n",
      "Epoch 29/30\n",
      "118/118 [==============================] - 0s 2ms/step - loss: 0.6873 - accuracy: 0.5541\n",
      "Epoch 30/30\n",
      "118/118 [==============================] - 0s 3ms/step - loss: 0.6873 - accuracy: 0.5541\n"
     ]
    }
   ],
   "source": [
    "# Train the model\n",
    "fit_model = nn.fit(X_train_scaled, y_train, epochs=30)"
   ]
  },
  {
   "cell_type": "code",
   "execution_count": null,
   "id": "9c4d32b0",
   "metadata": {},
   "outputs": [],
   "source": []
  },
  {
   "cell_type": "code",
   "execution_count": 254,
   "id": "5b763727",
   "metadata": {},
   "outputs": [
    {
     "data": {
      "text/plain": [
       "[(0.14139741681184412, 'Volume'),\n",
       " (0.11736204897205486, 'Previous_Low'),\n",
       " (0.11167166975803067, 'Close'),\n",
       " (0.10851059858480123, '10dayEWM'),\n",
       " (0.10659457038686015, '100dayEWM'),\n",
       " (0.10530653713742048, 'Low'),\n",
       " (0.10495266021174622, 'Open'),\n",
       " (0.10390152674922452, 'High'),\n",
       " (0.1003029713880178, '50dayEWM')]"
      ]
     },
     "execution_count": 254,
     "metadata": {},
     "output_type": "execute_result"
    }
   ],
   "source": [
    "\n",
    "# We can sort the features by their importance.\n",
    "sorted(zip(rf_model.feature_importances_, X.columns), reverse=True)"
   ]
  },
  {
   "cell_type": "code",
   "execution_count": 155,
   "id": "409ec261",
   "metadata": {},
   "outputs": [
    {
     "data": {
      "text/html": [
       "<div>\n",
       "<style scoped>\n",
       "    .dataframe tbody tr th:only-of-type {\n",
       "        vertical-align: middle;\n",
       "    }\n",
       "\n",
       "    .dataframe tbody tr th {\n",
       "        vertical-align: top;\n",
       "    }\n",
       "\n",
       "    .dataframe thead th {\n",
       "        text-align: right;\n",
       "    }\n",
       "</style>\n",
       "<table border=\"1\" class=\"dataframe\">\n",
       "  <thead>\n",
       "    <tr style=\"text-align: right;\">\n",
       "      <th></th>\n",
       "      <th>Volume</th>\n",
       "      <th>High</th>\n",
       "      <th>Low</th>\n",
       "      <th>Open</th>\n",
       "      <th>Close</th>\n",
       "      <th>50dayEWM</th>\n",
       "      <th>100dayEWM</th>\n",
       "      <th>10dayEWM</th>\n",
       "    </tr>\n",
       "  </thead>\n",
       "  <tbody>\n",
       "    <tr>\n",
       "      <th>136</th>\n",
       "      <td>140505979</td>\n",
       "      <td>436.7700</td>\n",
       "      <td>428.7800</td>\n",
       "      <td>436.02</td>\n",
       "      <td>429.14</td>\n",
       "      <td>440.410500</td>\n",
       "      <td>433.463923</td>\n",
       "      <td>437.704886</td>\n",
       "    </tr>\n",
       "    <tr>\n",
       "      <th>178</th>\n",
       "      <td>148559598</td>\n",
       "      <td>464.0300</td>\n",
       "      <td>455.3000</td>\n",
       "      <td>462.00</td>\n",
       "      <td>455.56</td>\n",
       "      <td>456.354521</td>\n",
       "      <td>447.315249</td>\n",
       "      <td>463.991498</td>\n",
       "    </tr>\n",
       "    <tr>\n",
       "      <th>116</th>\n",
       "      <td>48721378</td>\n",
       "      <td>453.1100</td>\n",
       "      <td>451.5450</td>\n",
       "      <td>452.56</td>\n",
       "      <td>451.80</td>\n",
       "      <td>438.736962</td>\n",
       "      <td>429.043006</td>\n",
       "      <td>448.720692</td>\n",
       "    </tr>\n",
       "    <tr>\n",
       "      <th>243</th>\n",
       "      <td>114083256</td>\n",
       "      <td>433.3700</td>\n",
       "      <td>427.8800</td>\n",
       "      <td>431.75</td>\n",
       "      <td>432.17</td>\n",
       "      <td>446.431386</td>\n",
       "      <td>449.083537</td>\n",
       "      <td>434.906887</td>\n",
       "    </tr>\n",
       "    <tr>\n",
       "      <th>51</th>\n",
       "      <td>54216625</td>\n",
       "      <td>422.7200</td>\n",
       "      <td>419.2000</td>\n",
       "      <td>422.57</td>\n",
       "      <td>419.67</td>\n",
       "      <td>411.205051</td>\n",
       "      <td>404.996696</td>\n",
       "      <td>417.802615</td>\n",
       "    </tr>\n",
       "    <tr>\n",
       "      <th>...</th>\n",
       "      <td>...</td>\n",
       "      <td>...</td>\n",
       "      <td>...</td>\n",
       "      <td>...</td>\n",
       "      <td>...</td>\n",
       "      <td>...</td>\n",
       "      <td>...</td>\n",
       "      <td>...</td>\n",
       "    </tr>\n",
       "    <tr>\n",
       "      <th>17</th>\n",
       "      <td>56550988</td>\n",
       "      <td>413.5290</td>\n",
       "      <td>411.1200</td>\n",
       "      <td>411.53</td>\n",
       "      <td>412.86</td>\n",
       "      <td>396.355973</td>\n",
       "      <td>394.096688</td>\n",
       "      <td>406.285481</td>\n",
       "    </tr>\n",
       "    <tr>\n",
       "      <th>222</th>\n",
       "      <td>117360953</td>\n",
       "      <td>458.1200</td>\n",
       "      <td>453.0500</td>\n",
       "      <td>455.50</td>\n",
       "      <td>457.35</td>\n",
       "      <td>457.237363</td>\n",
       "      <td>454.375778</td>\n",
       "      <td>448.310603</td>\n",
       "    </tr>\n",
       "    <tr>\n",
       "      <th>165</th>\n",
       "      <td>69429653</td>\n",
       "      <td>467.3800</td>\n",
       "      <td>462.0400</td>\n",
       "      <td>465.58</td>\n",
       "      <td>463.62</td>\n",
       "      <td>449.955731</td>\n",
       "      <td>441.794706</td>\n",
       "      <td>463.336071</td>\n",
       "    </tr>\n",
       "    <tr>\n",
       "      <th>22</th>\n",
       "      <td>81851828</td>\n",
       "      <td>415.0859</td>\n",
       "      <td>410.5900</td>\n",
       "      <td>413.91</td>\n",
       "      <td>412.17</td>\n",
       "      <td>399.626344</td>\n",
       "      <td>396.028330</td>\n",
       "      <td>411.393999</td>\n",
       "    </tr>\n",
       "    <tr>\n",
       "      <th>119</th>\n",
       "      <td>51671534</td>\n",
       "      <td>452.8100</td>\n",
       "      <td>450.7423</td>\n",
       "      <td>452.71</td>\n",
       "      <td>451.46</td>\n",
       "      <td>440.299522</td>\n",
       "      <td>430.412870</td>\n",
       "      <td>450.411213</td>\n",
       "    </tr>\n",
       "  </tbody>\n",
       "</table>\n",
       "<p>63 rows × 8 columns</p>\n",
       "</div>"
      ],
      "text/plain": [
       "        Volume      High       Low    Open   Close    50dayEWM   100dayEWM  \\\n",
       "136  140505979  436.7700  428.7800  436.02  429.14  440.410500  433.463923   \n",
       "178  148559598  464.0300  455.3000  462.00  455.56  456.354521  447.315249   \n",
       "116   48721378  453.1100  451.5450  452.56  451.80  438.736962  429.043006   \n",
       "243  114083256  433.3700  427.8800  431.75  432.17  446.431386  449.083537   \n",
       "51    54216625  422.7200  419.2000  422.57  419.67  411.205051  404.996696   \n",
       "..         ...       ...       ...     ...     ...         ...         ...   \n",
       "17    56550988  413.5290  411.1200  411.53  412.86  396.355973  394.096688   \n",
       "222  117360953  458.1200  453.0500  455.50  457.35  457.237363  454.375778   \n",
       "165   69429653  467.3800  462.0400  465.58  463.62  449.955731  441.794706   \n",
       "22    81851828  415.0859  410.5900  413.91  412.17  399.626344  396.028330   \n",
       "119   51671534  452.8100  450.7423  452.71  451.46  440.299522  430.412870   \n",
       "\n",
       "       10dayEWM  \n",
       "136  437.704886  \n",
       "178  463.991498  \n",
       "116  448.720692  \n",
       "243  434.906887  \n",
       "51   417.802615  \n",
       "..          ...  \n",
       "17   406.285481  \n",
       "222  448.310603  \n",
       "165  463.336071  \n",
       "22   411.393999  \n",
       "119  450.411213  \n",
       "\n",
       "[63 rows x 8 columns]"
      ]
     },
     "execution_count": 155,
     "metadata": {},
     "output_type": "execute_result"
    }
   ],
   "source": [
    "X_test"
   ]
  },
  {
   "cell_type": "code",
   "execution_count": 453,
   "id": "8486d65e",
   "metadata": {},
   "outputs": [],
   "source": [
    "field = X_test.copy()"
   ]
  },
  {
   "cell_type": "code",
   "execution_count": 455,
   "id": "59a5091f",
   "metadata": {},
   "outputs": [],
   "source": [
    "tester = [85250000, 10.07, 7.20, 418.25, 428.92, 401.82]"
   ]
  },
  {
   "cell_type": "code",
   "execution_count": 469,
   "id": "dfe5bf65",
   "metadata": {},
   "outputs": [],
   "source": [
    "tester2 = [143400000, 16.42, 12.13, 436.65, 440.72, 424.21]"
   ]
  },
  {
   "cell_type": "code",
   "execution_count": null,
   "id": "32a5bfb8",
   "metadata": {},
   "outputs": [],
   "source": [
    "tester3"
   ]
  },
  {
   "cell_type": "code",
   "execution_count": 456,
   "id": "28ad62ae",
   "metadata": {},
   "outputs": [],
   "source": [
    "field.loc[len(field.index)] = tester"
   ]
  },
  {
   "cell_type": "code",
   "execution_count": 470,
   "id": "3169322a",
   "metadata": {},
   "outputs": [],
   "source": [
    "field.loc[len(field.index)] = tester2"
   ]
  },
  {
   "cell_type": "code",
   "execution_count": 471,
   "id": "74138277",
   "metadata": {},
   "outputs": [
    {
     "data": {
      "text/html": [
       "<div>\n",
       "<style scoped>\n",
       "    .dataframe tbody tr th:only-of-type {\n",
       "        vertical-align: middle;\n",
       "    }\n",
       "\n",
       "    .dataframe tbody tr th {\n",
       "        vertical-align: top;\n",
       "    }\n",
       "\n",
       "    .dataframe thead th {\n",
       "        text-align: right;\n",
       "    }\n",
       "</style>\n",
       "<table border=\"1\" class=\"dataframe\">\n",
       "  <thead>\n",
       "    <tr style=\"text-align: right;\">\n",
       "      <th></th>\n",
       "      <th>Volume</th>\n",
       "      <th>Range of the day</th>\n",
       "      <th>Gain_of_Day</th>\n",
       "      <th>50dayEWM</th>\n",
       "      <th>100dayEWM</th>\n",
       "      <th>10dayEWM</th>\n",
       "    </tr>\n",
       "  </thead>\n",
       "  <tbody>\n",
       "    <tr>\n",
       "      <th>2</th>\n",
       "      <td>73778646.0</td>\n",
       "      <td>4.100</td>\n",
       "      <td>2.56</td>\n",
       "      <td>391.448174</td>\n",
       "      <td>391.463160</td>\n",
       "      <td>391.384298</td>\n",
       "    </tr>\n",
       "    <tr>\n",
       "      <th>150</th>\n",
       "      <td>49571569.0</td>\n",
       "      <td>1.722</td>\n",
       "      <td>1.28</td>\n",
       "      <td>440.345235</td>\n",
       "      <td>434.999082</td>\n",
       "      <td>443.814227</td>\n",
       "    </tr>\n",
       "    <tr>\n",
       "      <th>77</th>\n",
       "      <td>97595232.0</td>\n",
       "      <td>4.210</td>\n",
       "      <td>2.14</td>\n",
       "      <td>420.818758</td>\n",
       "      <td>413.309651</td>\n",
       "      <td>429.830779</td>\n",
       "    </tr>\n",
       "    <tr>\n",
       "      <th>227</th>\n",
       "      <td>92589929.0</td>\n",
       "      <td>2.875</td>\n",
       "      <td>2.32</td>\n",
       "      <td>455.998377</td>\n",
       "      <td>453.988383</td>\n",
       "      <td>450.151355</td>\n",
       "    </tr>\n",
       "    <tr>\n",
       "      <th>127</th>\n",
       "      <td>118425037.0</td>\n",
       "      <td>4.350</td>\n",
       "      <td>-3.52</td>\n",
       "      <td>441.967726</td>\n",
       "      <td>432.788287</td>\n",
       "      <td>446.661687</td>\n",
       "    </tr>\n",
       "    <tr>\n",
       "      <th>...</th>\n",
       "      <td>...</td>\n",
       "      <td>...</td>\n",
       "      <td>...</td>\n",
       "      <td>...</td>\n",
       "      <td>...</td>\n",
       "      <td>...</td>\n",
       "    </tr>\n",
       "    <tr>\n",
       "      <th>145</th>\n",
       "      <td>72973979.0</td>\n",
       "      <td>4.510</td>\n",
       "      <td>0.47</td>\n",
       "      <td>438.668260</td>\n",
       "      <td>433.650615</td>\n",
       "      <td>435.395279</td>\n",
       "    </tr>\n",
       "    <tr>\n",
       "      <th>209</th>\n",
       "      <td>91173121.0</td>\n",
       "      <td>9.440</td>\n",
       "      <td>-7.66</td>\n",
       "      <td>465.014832</td>\n",
       "      <td>456.885409</td>\n",
       "      <td>469.115542</td>\n",
       "    </tr>\n",
       "    <tr>\n",
       "      <th>63</th>\n",
       "      <td>85250000.0</td>\n",
       "      <td>10.070</td>\n",
       "      <td>7.20</td>\n",
       "      <td>418.250000</td>\n",
       "      <td>428.920000</td>\n",
       "      <td>401.820000</td>\n",
       "    </tr>\n",
       "    <tr>\n",
       "      <th>64</th>\n",
       "      <td>81730000.0</td>\n",
       "      <td>5.790</td>\n",
       "      <td>2.28</td>\n",
       "      <td>426.100000</td>\n",
       "      <td>434.310000</td>\n",
       "      <td>405.210000</td>\n",
       "    </tr>\n",
       "    <tr>\n",
       "      <th>65</th>\n",
       "      <td>143400000.0</td>\n",
       "      <td>16.420</td>\n",
       "      <td>12.13</td>\n",
       "      <td>436.650000</td>\n",
       "      <td>440.720000</td>\n",
       "      <td>424.210000</td>\n",
       "    </tr>\n",
       "  </tbody>\n",
       "</table>\n",
       "<p>66 rows × 6 columns</p>\n",
       "</div>"
      ],
      "text/plain": [
       "          Volume  Range of the day  Gain_of_Day    50dayEWM   100dayEWM  \\\n",
       "2     73778646.0             4.100         2.56  391.448174  391.463160   \n",
       "150   49571569.0             1.722         1.28  440.345235  434.999082   \n",
       "77    97595232.0             4.210         2.14  420.818758  413.309651   \n",
       "227   92589929.0             2.875         2.32  455.998377  453.988383   \n",
       "127  118425037.0             4.350        -3.52  441.967726  432.788287   \n",
       "..           ...               ...          ...         ...         ...   \n",
       "145   72973979.0             4.510         0.47  438.668260  433.650615   \n",
       "209   91173121.0             9.440        -7.66  465.014832  456.885409   \n",
       "63    85250000.0            10.070         7.20  418.250000  428.920000   \n",
       "64    81730000.0             5.790         2.28  426.100000  434.310000   \n",
       "65   143400000.0            16.420        12.13  436.650000  440.720000   \n",
       "\n",
       "       10dayEWM  \n",
       "2    391.384298  \n",
       "150  443.814227  \n",
       "77   429.830779  \n",
       "227  450.151355  \n",
       "127  446.661687  \n",
       "..          ...  \n",
       "145  435.395279  \n",
       "209  469.115542  \n",
       "63   401.820000  \n",
       "64   405.210000  \n",
       "65   424.210000  \n",
       "\n",
       "[66 rows x 6 columns]"
      ]
     },
     "execution_count": 471,
     "metadata": {},
     "output_type": "execute_result"
    }
   ],
   "source": [
    "field"
   ]
  },
  {
   "cell_type": "code",
   "execution_count": 462,
   "id": "cc3359ae",
   "metadata": {},
   "outputs": [],
   "source": [
    "tester = field.loc[field.index == 63]"
   ]
  },
  {
   "cell_type": "code",
   "execution_count": 463,
   "id": "01509b7d",
   "metadata": {},
   "outputs": [
    {
     "data": {
      "text/html": [
       "<div>\n",
       "<style scoped>\n",
       "    .dataframe tbody tr th:only-of-type {\n",
       "        vertical-align: middle;\n",
       "    }\n",
       "\n",
       "    .dataframe tbody tr th {\n",
       "        vertical-align: top;\n",
       "    }\n",
       "\n",
       "    .dataframe thead th {\n",
       "        text-align: right;\n",
       "    }\n",
       "</style>\n",
       "<table border=\"1\" class=\"dataframe\">\n",
       "  <thead>\n",
       "    <tr style=\"text-align: right;\">\n",
       "      <th></th>\n",
       "      <th>Volume</th>\n",
       "      <th>Range of the day</th>\n",
       "      <th>Gain_of_Day</th>\n",
       "      <th>50dayEWM</th>\n",
       "      <th>100dayEWM</th>\n",
       "      <th>10dayEWM</th>\n",
       "    </tr>\n",
       "  </thead>\n",
       "  <tbody>\n",
       "    <tr>\n",
       "      <th>63</th>\n",
       "      <td>85250000.0</td>\n",
       "      <td>10.07</td>\n",
       "      <td>7.2</td>\n",
       "      <td>418.25</td>\n",
       "      <td>428.92</td>\n",
       "      <td>401.82</td>\n",
       "    </tr>\n",
       "  </tbody>\n",
       "</table>\n",
       "</div>"
      ],
      "text/plain": [
       "        Volume  Range of the day  Gain_of_Day  50dayEWM  100dayEWM  10dayEWM\n",
       "63  85250000.0             10.07          7.2    418.25     428.92    401.82"
      ]
     },
     "execution_count": 463,
     "metadata": {},
     "output_type": "execute_result"
    }
   ],
   "source": [
    "tester"
   ]
  },
  {
   "cell_type": "code",
   "execution_count": 472,
   "id": "85497daf",
   "metadata": {},
   "outputs": [],
   "source": [
    "tester_2 = field.loc[field.index == 65]"
   ]
  },
  {
   "cell_type": "code",
   "execution_count": 473,
   "id": "aa1e8fae",
   "metadata": {},
   "outputs": [
    {
     "data": {
      "text/plain": [
       "array([1])"
      ]
     },
     "execution_count": 473,
     "metadata": {},
     "output_type": "execute_result"
    }
   ],
   "source": [
    "rf_model.predict(tester_2)"
   ]
  },
  {
   "cell_type": "code",
   "execution_count": null,
   "id": "7a88d0af",
   "metadata": {},
   "outputs": [],
   "source": []
  },
  {
   "cell_type": "code",
   "execution_count": 52,
   "id": "4253003a",
   "metadata": {},
   "outputs": [
    {
     "data": {
      "text/html": [
       "<div>\n",
       "<style scoped>\n",
       "    .dataframe tbody tr th:only-of-type {\n",
       "        vertical-align: middle;\n",
       "    }\n",
       "\n",
       "    .dataframe tbody tr th {\n",
       "        vertical-align: top;\n",
       "    }\n",
       "\n",
       "    .dataframe thead th {\n",
       "        text-align: right;\n",
       "    }\n",
       "</style>\n",
       "<table border=\"1\" class=\"dataframe\">\n",
       "  <thead>\n",
       "    <tr style=\"text-align: right;\">\n",
       "      <th></th>\n",
       "      <th>Open</th>\n",
       "      <th>Close</th>\n",
       "      <th>High</th>\n",
       "      <th>Low</th>\n",
       "      <th>Volume</th>\n",
       "      <th>Range of the day</th>\n",
       "    </tr>\n",
       "  </thead>\n",
       "  <tbody>\n",
       "    <tr>\n",
       "      <th>0</th>\n",
       "      <td>394.475</td>\n",
       "      <td>391.48</td>\n",
       "      <td>396.720</td>\n",
       "      <td>390.75</td>\n",
       "      <td>115349101</td>\n",
       "      <td>5.970</td>\n",
       "    </tr>\n",
       "    <tr>\n",
       "      <th>1</th>\n",
       "      <td>389.880</td>\n",
       "      <td>389.48</td>\n",
       "      <td>391.569</td>\n",
       "      <td>387.15</td>\n",
       "      <td>113624490</td>\n",
       "      <td>4.419</td>\n",
       "    </tr>\n",
       "    <tr>\n",
       "      <th>2</th>\n",
       "      <td>390.030</td>\n",
       "      <td>392.59</td>\n",
       "      <td>394.070</td>\n",
       "      <td>389.97</td>\n",
       "      <td>73778646</td>\n",
       "      <td>4.100</td>\n",
       "    </tr>\n",
       "    <tr>\n",
       "      <th>3</th>\n",
       "      <td>391.910</td>\n",
       "      <td>389.50</td>\n",
       "      <td>393.460</td>\n",
       "      <td>388.66</td>\n",
       "      <td>90686552</td>\n",
       "      <td>4.800</td>\n",
       "    </tr>\n",
       "    <tr>\n",
       "      <th>4</th>\n",
       "      <td>391.000</td>\n",
       "      <td>387.52</td>\n",
       "      <td>392.750</td>\n",
       "      <td>387.47</td>\n",
       "      <td>97588644</td>\n",
       "      <td>5.280</td>\n",
       "    </tr>\n",
       "    <tr>\n",
       "      <th>...</th>\n",
       "      <td>...</td>\n",
       "      <td>...</td>\n",
       "      <td>...</td>\n",
       "      <td>...</td>\n",
       "      <td>...</td>\n",
       "      <td>...</td>\n",
       "    </tr>\n",
       "    <tr>\n",
       "      <th>247</th>\n",
       "      <td>422.520</td>\n",
       "      <td>425.48</td>\n",
       "      <td>426.430</td>\n",
       "      <td>420.44</td>\n",
       "      <td>93972655</td>\n",
       "      <td>5.990</td>\n",
       "    </tr>\n",
       "    <tr>\n",
       "      <th>248</th>\n",
       "      <td>428.120</td>\n",
       "      <td>420.07</td>\n",
       "      <td>428.770</td>\n",
       "      <td>419.53</td>\n",
       "      <td>95636277</td>\n",
       "      <td>9.240</td>\n",
       "    </tr>\n",
       "    <tr>\n",
       "      <th>249</th>\n",
       "      <td>420.890</td>\n",
       "      <td>417.00</td>\n",
       "      <td>424.550</td>\n",
       "      <td>415.79</td>\n",
       "      <td>95729188</td>\n",
       "      <td>8.760</td>\n",
       "    </tr>\n",
       "    <tr>\n",
       "      <th>250</th>\n",
       "      <td>419.770</td>\n",
       "      <td>426.17</td>\n",
       "      <td>426.840</td>\n",
       "      <td>418.42</td>\n",
       "      <td>106219117</td>\n",
       "      <td>8.420</td>\n",
       "    </tr>\n",
       "    <tr>\n",
       "      <th>251</th>\n",
       "      <td>429.890</td>\n",
       "      <td>435.62</td>\n",
       "      <td>435.680</td>\n",
       "      <td>424.80</td>\n",
       "      <td>144954805</td>\n",
       "      <td>10.880</td>\n",
       "    </tr>\n",
       "  </tbody>\n",
       "</table>\n",
       "<p>252 rows × 6 columns</p>\n",
       "</div>"
      ],
      "text/plain": [
       "        Open   Close     High     Low     Volume  Range of the day\n",
       "0    394.475  391.48  396.720  390.75  115349101             5.970\n",
       "1    389.880  389.48  391.569  387.15  113624490             4.419\n",
       "2    390.030  392.59  394.070  389.97   73778646             4.100\n",
       "3    391.910  389.50  393.460  388.66   90686552             4.800\n",
       "4    391.000  387.52  392.750  387.47   97588644             5.280\n",
       "..       ...     ...      ...     ...        ...               ...\n",
       "247  422.520  425.48  426.430  420.44   93972655             5.990\n",
       "248  428.120  420.07  428.770  419.53   95636277             9.240\n",
       "249  420.890  417.00  424.550  415.79   95729188             8.760\n",
       "250  419.770  426.17  426.840  418.42  106219117             8.420\n",
       "251  429.890  435.62  435.680  424.80  144954805            10.880\n",
       "\n",
       "[252 rows x 6 columns]"
      ]
     },
     "execution_count": 52,
     "metadata": {},
     "output_type": "execute_result"
    }
   ],
   "source": [
    "X"
   ]
  },
  {
   "cell_type": "code",
   "execution_count": 53,
   "id": "587b174e",
   "metadata": {},
   "outputs": [
    {
     "data": {
      "text/plain": [
       "0      0\n",
       "1      0\n",
       "2      1\n",
       "3      0\n",
       "4      0\n",
       "      ..\n",
       "247    1\n",
       "248    0\n",
       "249    0\n",
       "250    1\n",
       "251    1\n",
       "Name: R/G, Length: 252, dtype: int64"
      ]
     },
     "execution_count": 53,
     "metadata": {},
     "output_type": "execute_result"
    }
   ],
   "source": [
    "y"
   ]
  }
 ],
 "metadata": {
  "kernelspec": {
   "display_name": "mlenv",
   "language": "python",
   "name": "mlenv"
  },
  "language_info": {
   "codemirror_mode": {
    "name": "ipython",
    "version": 3
   },
   "file_extension": ".py",
   "mimetype": "text/x-python",
   "name": "python",
   "nbconvert_exporter": "python",
   "pygments_lexer": "ipython3",
   "version": "3.7.13"
  }
 },
 "nbformat": 4,
 "nbformat_minor": 5
}
