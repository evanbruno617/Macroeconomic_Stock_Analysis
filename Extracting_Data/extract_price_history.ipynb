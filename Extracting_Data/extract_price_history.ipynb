{
 "cells": [
  {
   "cell_type": "code",
   "execution_count": 68,
   "id": "b765b8cf",
   "metadata": {},
   "outputs": [],
   "source": [
    "# import models\n",
    "import mplfinance as mpf\n",
    "from config import api_key\n",
    "import requests\n",
    "import pandas as pd\n",
    "import time\n",
    "import datetime\n",
    "from datetime import time\n",
    "import matplotlib.pyplot as plt\n",
    "import cufflinks as cf\n",
    "import os\n"
   ]
  },
  {
   "cell_type": "code",
   "execution_count": 70,
   "id": "33e51420",
   "metadata": {},
   "outputs": [],
   "source": [
    "stocks = [\"AAPL\", \"NVDA\", \"AMZN\", \"TSLA\", \"MSFT\", \"GOOG\", \"META\", \"GOOGL\", \"PEP\", \"COST\", \"AVGO\", \"ADBE\", \"CSCO\", \"CMCSA\", \"TMUS\", \"INTC\", \"TXN\", \"AMD\", \"QCOM\", \"AMGN\", \"HON\", \"INTU\", \"FISV\", \"MRNA\", \"PANW\", \"KDP\", \"KLAC\", \"MNST\", \"SNPS\", \"AEP\"]"
   ]
  },
  {
   "cell_type": "code",
   "execution_count": 71,
   "id": "15395ad8",
   "metadata": {},
   "outputs": [],
   "source": [
    "\n",
    "periodtype = \"year\"\n",
    "frequency = \"1\"\n",
    "frequencytype = \"monthly\"\n",
    "period = \"20\"\n",
    "needExtendedHoursData = \"False\""
   ]
  },
  {
   "cell_type": "code",
   "execution_count": 72,
   "id": "2e87da47",
   "metadata": {},
   "outputs": [],
   "source": [
    "for symbol in stocks:\n",
    "    #url for td\n",
    "    url = \"https://api.tdameritrade.com/v1/marketdata/{}/pricehistory\".format(symbol)\n",
    "\n",
    "    #parameters\n",
    "    key = {'apikey':api_key,\n",
    "             'periodType':periodtype,\n",
    "              'frequencyType': frequencytype,\n",
    "              'frequency': frequency,\n",
    "              'period': period,\n",
    "              'needExtendedHoursData': needExtendedHoursData,\n",
    "             }\n",
    "    #requesting data\n",
    "    content = requests.get(url = url, params=key)\n",
    "\n",
    "    data = content.json()\n",
    "\n",
    "    #create arrays for each category\n",
    "    open_tick = []\n",
    "    high_tick = []\n",
    "    low_tick = []\n",
    "    close_tick = []\n",
    "    volume_tick = []\n",
    "    datetime_tick = []\n",
    "    #iterrates through data to append each array with it's value\n",
    "    for i in range(len(data[\"candles\"])):\n",
    "        open_tick.append(data[\"candles\"][i][\"open\"])\n",
    "        high_tick.append(data[\"candles\"][i][\"high\"])\n",
    "        low_tick.append(data[\"candles\"][i][\"low\"])\n",
    "        close_tick.append(data[\"candles\"][i][\"close\"])\n",
    "        volume_tick.append(data[\"candles\"][i][\"volume\"])\n",
    "        datetime_tick.append(data[\"candles\"][i][\"datetime\"])\n",
    "\n",
    "    #converting epoch to datetime       \n",
    "    file = []\n",
    "    for i in range(len(datetime_tick)):\n",
    "        # divide epoch by 1000 because it is in milliseconds\n",
    "        test = datetime_tick[i]/1000\n",
    "        file.append(datetime.datetime.fromtimestamp(test))\n",
    "\n",
    "    #convert to dataframe\n",
    "    theta_df = pd.DataFrame({\n",
    "                \"Open\":open_tick,\n",
    "                \"Close\":close_tick,\n",
    "                \"High\":high_tick,\n",
    "                \"Low\":low_tick,\n",
    "                \"Volume\":volume_tick,\n",
    "                \"Datetime\": file\n",
    "        })\n",
    "    # set index to Datetime\n",
    "    theta_df = theta_df.set_index(\"Datetime\")\n",
    "\n",
    "    # Calculate % gain for the day \n",
    "    theta_df[\"Gain%\"] = (theta_df.Close - theta_df.Open)/theta_df.Open * 100\n",
    "\n",
    "    # for the stock ticker if a folder does not exist already, one will be created\n",
    "    mypath = f\"{symbol}\"\n",
    "    if not os.path.isdir(mypath):\n",
    "       os.makedirs(mypath)\n",
    "\n",
    "    # uploads csv to that folder specifying the frequency and type to identify the csv\n",
    "    upload_file = f\"{symbol}/{symbol}_{frequencytype}_{frequency}_{needExtendedHoursData}.csv\"\n",
    "    theta_df.to_csv(upload_file, index = True)"
   ]
  },
  {
   "cell_type": "code",
   "execution_count": null,
   "id": "b857a9cd",
   "metadata": {},
   "outputs": [],
   "source": []
  }
 ],
 "metadata": {
  "kernelspec": {
   "display_name": "PythonData",
   "language": "python",
   "name": "pythondata"
  },
  "language_info": {
   "codemirror_mode": {
    "name": "ipython",
    "version": 3
   },
   "file_extension": ".py",
   "mimetype": "text/x-python",
   "name": "python",
   "nbconvert_exporter": "python",
   "pygments_lexer": "ipython3",
   "version": "3.9.7"
  }
 },
 "nbformat": 4,
 "nbformat_minor": 5
}
