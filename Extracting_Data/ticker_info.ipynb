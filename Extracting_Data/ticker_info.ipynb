{
 "cells": [
  {
   "cell_type": "code",
   "execution_count": 4,
   "id": "0e98df30",
   "metadata": {},
   "outputs": [],
   "source": [
    "import pandas as pd\n",
    "import mplfinance as mpf\n",
    "import time\n",
    "from datetime import time\n",
    "import datetime\n",
    "from config import api_key\n",
    "import requests"
   ]
  },
  {
   "cell_type": "code",
   "execution_count": 5,
   "id": "9cf3783e",
   "metadata": {},
   "outputs": [],
   "source": [
    "quote_url = 'https://api.tdameritrade.com/v1/marketdata/quotes'"
   ]
  },
  {
   "cell_type": "code",
   "execution_count": 6,
   "id": "2257a692",
   "metadata": {},
   "outputs": [
    {
     "data": {
      "text/plain": [
       "{'SPY': {'assetType': 'ETF',\n",
       "  'assetMainType': 'EQUITY',\n",
       "  'cusip': '78462F103',\n",
       "  'assetSubType': 'ETF',\n",
       "  'symbol': 'SPY',\n",
       "  'description': 'SPDR S&P 500',\n",
       "  'bidPrice': 374.17,\n",
       "  'bidSize': 200,\n",
       "  'bidId': 'Z',\n",
       "  'askPrice': 374.18,\n",
       "  'askSize': 100,\n",
       "  'askId': 'M',\n",
       "  'lastPrice': 374.17,\n",
       "  'lastSize': 600,\n",
       "  'lastId': 'D',\n",
       "  'openPrice': 376.64,\n",
       "  'highPrice': 378.2,\n",
       "  'lowPrice': 372.89,\n",
       "  'bidTick': ' ',\n",
       "  'closePrice': 374.39,\n",
       "  'netChange': -0.22,\n",
       "  'totalVolume': 41634236,\n",
       "  'quoteTimeInLong': 1656004785707,\n",
       "  'tradeTimeInLong': 1656004784917,\n",
       "  'mark': 374.17,\n",
       "  'exchange': 'p',\n",
       "  'exchangeName': 'PACIFIC',\n",
       "  'marginable': True,\n",
       "  'shortable': True,\n",
       "  'volatility': 0.0165,\n",
       "  'digits': 2,\n",
       "  '52WkHigh': 479.98,\n",
       "  '52WkLow': 362.17,\n",
       "  'nAV': 0.0,\n",
       "  'peRatio': 0.0,\n",
       "  'divAmount': 6.3075,\n",
       "  'divYield': 1.68,\n",
       "  'divDate': '2022-06-17 00:00:00.000',\n",
       "  'securityStatus': 'Normal',\n",
       "  'regularMarketLastPrice': 374.17,\n",
       "  'regularMarketLastSize': 6,\n",
       "  'regularMarketNetChange': -0.22,\n",
       "  'regularMarketTradeTimeInLong': 1656004784917,\n",
       "  'netPercentChangeInDouble': -0.0588,\n",
       "  'markChangeInDouble': -0.22,\n",
       "  'markPercentChangeInDouble': -0.0588,\n",
       "  'regularMarketPercentChangeInDouble': -0.0588,\n",
       "  'delayed': True,\n",
       "  'realtimeEntitled': False}}"
      ]
     },
     "execution_count": 6,
     "metadata": {},
     "output_type": "execute_result"
    }
   ],
   "source": [
    "params = {'apikey':api_key,\n",
    "         'symbol':'SPY',\n",
    "\n",
    "         \n",
    "         }\n",
    "\n",
    "content = requests.get(url = quote_url, params=params)\n",
    "\n",
    "data = content.json()\n",
    "data"
   ]
  },
  {
   "cell_type": "code",
   "execution_count": null,
   "id": "7b5ab80c",
   "metadata": {},
   "outputs": [],
   "source": []
  }
 ],
 "metadata": {
  "kernelspec": {
   "display_name": "PythonData",
   "language": "python",
   "name": "pythondata"
  },
  "language_info": {
   "codemirror_mode": {
    "name": "ipython",
    "version": 3
   },
   "file_extension": ".py",
   "mimetype": "text/x-python",
   "name": "python",
   "nbconvert_exporter": "python",
   "pygments_lexer": "ipython3",
   "version": "3.9.7"
  }
 },
 "nbformat": 4,
 "nbformat_minor": 5
}
