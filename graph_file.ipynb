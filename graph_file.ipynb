{
 "cells": [
  {
   "cell_type": "code",
   "execution_count": 37,
   "id": "b0f3f907",
   "metadata": {},
   "outputs": [],
   "source": [
    "import pandas as pd\n",
    "import numpy as np\n",
    "import mplfinance as mpf\n",
    "import time\n",
    "import datetime\n",
    "from datetime import time\n",
    "import math\n",
    "import pathlib\n",
    "import IPython.display as IPydisplay\n",
    "%matplotlib inline\n",
    "import os"
   ]
  },
  {
   "cell_type": "code",
   "execution_count": 38,
   "id": "bd9f6061",
   "metadata": {},
   "outputs": [
    {
     "name": "stdout",
     "output_type": "stream",
     "text": [
      "Input tickerSPY\n",
      "Input the name of the fileSPY_daily_1_False.csv\n",
      "Input start time frame (format : YYYY-MM-DD H:M:S)2002-06-23 22:00:00\n",
      "End time frame (format : YYYY-MM-DD H:M:S)2022-06-21 22:00:00\n",
      "Do you want volume bins (YES/NO)YES\n"
     ]
    }
   ],
   "source": [
    "ticker = input('Input ticker')\n",
    "file = input('Input the name of the file')\n",
    "start = input('Input start time frame (format : YYYY-MM-DD H:M:S)')\n",
    "end = input('End time frame (format : YYYY-MM-DD H:M:S)')\n",
    "bins_data = input('Do you want volume bins (YES/NO)')\n",
    "bins_cat = \"below_25, mean, 75_percentile, Max\""
   ]
  },
  {
   "cell_type": "code",
   "execution_count": 39,
   "id": "2334d979",
   "metadata": {},
   "outputs": [],
   "source": [
    "def bin_function(df):\n",
    "    \n",
    "    c = df['Volume'].std()\n",
    "    \n",
    "    mean = df['Volume'].mean()\n",
    "\n",
    "    percent_25 = mean / 2\n",
    "\n",
    "    max_volume = df['Volume'].max()\n",
    "    \n",
    "    percent_75 = mean + (max_volume - mean) / 2\n",
    "\n",
    "    bins = [0, percent_25, mean, percent_75, max_volume]\n",
    "\n",
    "    group_labels = [\"below_25\", \"mean\", \"75_percentile\", \"Max\"]\n",
    "\n",
    "    print(0, percent_25, mean, percent_75, max_volume)\n",
    "\n",
    "    df[\"Range\"] = pd.cut(df[\"Volume\"], bins, labels=group_labels)\n",
    "\n",
    "    df[\"%Gain\"] = (df[\"NextDay_open\"] - df[\"Close\"]) / df[\"Close\"] * 100\n",
    "\n",
    "    df[\"Range of the day\"] = df[\"High\"] - df[\"Low\"]\n",
    "    \n",
    "    binary = []\n",
    "    \n",
    "    for x in df[\"%Gain\"]:\n",
    "        if x < 0:\n",
    "            binary.append(0)\n",
    "        else:\n",
    "            binary.append(1)\n",
    "    df[\"R/G\"] = binary\n",
    "\n",
    "    df = df.dropna()\n",
    "    \n",
    "    return df"
   ]
  },
  {
   "cell_type": "code",
   "execution_count": 40,
   "id": "2397a961",
   "metadata": {},
   "outputs": [],
   "source": [
    "def plot_data(df, ticker, start, end):\n",
    "    start = datetime.datetime.strptime(f'{start}', '%Y-%m-%d %H:%M:%S')\n",
    "    end = datetime.datetime.strptime(f'{end}', '%Y-%m-%d %H:%M:%S')\n",
    "    sdf = (df.index > start) & (df.index < end)\n",
    "    var_edit = [mpf.make_addplot(df.loc[sdf, ('100dayEWM', '50dayEWM', '10dayEWM')]),\n",
    "                mpf.make_addplot(df.loc[sdf, ticker], type='scatter', marker = '^', color = 'black')\n",
    "               ]\n",
    "    \n",
    "    display(mpf.plot(df.loc[sdf], type = 'candle', style = 'yahoo', addplot = var_edit, volume=True))"
   ]
  },
  {
   "cell_type": "code",
   "execution_count": 41,
   "id": "359f5ea1",
   "metadata": {},
   "outputs": [],
   "source": [
    "def cat_sort(range_info, df):\n",
    "    test = []\n",
    "    for x, row in df.iterrows():\n",
    "        if row['Range'] == range_info:\n",
    "            test.append(row['Low'])\n",
    "        else:\n",
    "            test.append(np.nan)\n",
    "    df[f\"{range_info}\"] = test\n",
    "    return df"
   ]
  },
  {
   "cell_type": "code",
   "execution_count": 43,
   "id": "55ccb9f7",
   "metadata": {},
   "outputs": [],
   "source": [
    "def analyze_chart(ticker, file, start, end):\n",
    "    df = pd.read_csv(f\"Extracting_Data/{ticker}/{file}\")\n",
    "    x = []\n",
    "\n",
    "    df = df.set_index('Datetime')\n",
    "    df.index = pd.to_datetime(df.index)\n",
    "    \n",
    "    df['Previous_Low'] = df['Low'].shift(1)\n",
    "    df['NextDay_open'] = df['Open'].shift(-1)\n",
    "    df['NextDay_Volume'] = df['Volume'].shift(-1)\n",
    "    \n",
    "    if bins_data == 'YES':\n",
    "        tickers_list = bins_cat.split(\", \")\n",
    "        df = bin_function(df)\n",
    "        \n",
    "        for i in tickers_list:\n",
    "            df = cat_sort(i, df)\n",
    "\n",
    "\n",
    "    df['50dayEWM'] = df['Close'].ewm(span=50, adjust=False).mean()\n",
    "    df['100dayEWM'] = df['Close'].ewm(span=100, adjust=False).mean()\n",
    "    df['10dayEWM'] = df['Close'].ewm(span=10, adjust=False).mean()\n",
    "    \n",
    "    plot_data(df, \"mean\", start, end)\n",
    "\n",
    "    \n",
    "    return df"
   ]
  },
  {
   "cell_type": "code",
   "execution_count": 44,
   "id": "ca4f59b4",
   "metadata": {},
   "outputs": [
    {
     "name": "stdout",
     "output_type": "stream",
     "text": [
      "0 60964750.49304866 121929500.98609732 496738195.49304867 871546890\n"
     ]
    },
    {
     "name": "stderr",
     "output_type": "stream",
     "text": [
      "/Users/evanbruno/opt/anaconda3/lib/python3.9/site-packages/mplfinance/_arg_validators.py:35: UserWarning: \n",
      "\n",
      " ================================================================= \n",
      "\n",
      "   WARNING: YOU ARE PLOTTING SO MUCH DATA THAT IT MAY NOT BE\n",
      "            POSSIBLE TO SEE DETAILS (Candles, Ohlc-Bars, Etc.)\n",
      "   For more information see:\n",
      "   - https://github.com/matplotlib/mplfinance/wiki/Plotting-Too-Much-Data\n",
      "   \n",
      "   TO SILENCE THIS WARNING, set `type='line'` in `mpf.plot()`\n",
      "   OR set kwarg `warn_too_much_data=N` where N is an integer \n",
      "   LARGER than the number of data points you want to plot.\n",
      "\n",
      " ================================================================ \n",
      "  warnings.warn('\\n\\n ================================================================= '+\n"
     ]
    },
    {
     "data": {
      "image/png": "[encoded data removed]",
      "text/plain": [
       "<Figure size 800x575 with 4 Axes>"
      ]
     },
     "metadata": {},
     "output_type": "display_data"
    },
    {
     "data": {
      "text/plain": [
       "None"
      ]
     },
     "metadata": {},
     "output_type": "display_data"
    }
   ],
   "source": [
    "data_df = analyze_chart(ticker, file, start, end)"
   ]
  },
  {
   "cell_type": "code",
   "execution_count": 45,
   "id": "c9a9e342",
   "metadata": {},
   "outputs": [
    {
     "data": {
      "text/html": [
       "<div>\n",
       "<style scoped>\n",
       "    .dataframe tbody tr th:only-of-type {\n",
       "        vertical-align: middle;\n",
       "    }\n",
       "\n",
       "    .dataframe tbody tr th {\n",
       "        vertical-align: top;\n",
       "    }\n",
       "\n",
       "    .dataframe thead th {\n",
       "        text-align: right;\n",
       "    }\n",
       "</style>\n",
       "<table border=\"1\" class=\"dataframe\">\n",
       "  <thead>\n",
       "    <tr style=\"text-align: right;\">\n",
       "      <th></th>\n",
       "      <th>Open</th>\n",
       "      <th>Close</th>\n",
       "      <th>High</th>\n",
       "      <th>Low</th>\n",
       "      <th>Volume</th>\n",
       "      <th>Gain%</th>\n",
       "      <th>Previous_Low</th>\n",
       "      <th>NextDay_open</th>\n",
       "      <th>NextDay_Volume</th>\n",
       "      <th>Range</th>\n",
       "      <th>%Gain</th>\n",
       "      <th>Range of the day</th>\n",
       "      <th>R/G</th>\n",
       "      <th>below_25</th>\n",
       "      <th>mean</th>\n",
       "      <th>75_percentile</th>\n",
       "      <th>Max</th>\n",
       "      <th>50dayEWM</th>\n",
       "      <th>100dayEWM</th>\n",
       "      <th>10dayEWM</th>\n",
       "    </tr>\n",
       "    <tr>\n",
       "      <th>Datetime</th>\n",
       "      <th></th>\n",
       "      <th></th>\n",
       "      <th></th>\n",
       "      <th></th>\n",
       "      <th></th>\n",
       "      <th></th>\n",
       "      <th></th>\n",
       "      <th></th>\n",
       "      <th></th>\n",
       "      <th></th>\n",
       "      <th></th>\n",
       "      <th></th>\n",
       "      <th></th>\n",
       "      <th></th>\n",
       "      <th></th>\n",
       "      <th></th>\n",
       "      <th></th>\n",
       "      <th></th>\n",
       "      <th></th>\n",
       "      <th></th>\n",
       "    </tr>\n",
       "  </thead>\n",
       "  <tbody>\n",
       "    <tr>\n",
       "      <th>2002-06-24 22:00:00</th>\n",
       "      <td>100.30</td>\n",
       "      <td>97.56</td>\n",
       "      <td>100.890</td>\n",
       "      <td>97.5400</td>\n",
       "      <td>33355000</td>\n",
       "      <td>-2.731805</td>\n",
       "      <td>97.2500</td>\n",
       "      <td>95.20</td>\n",
       "      <td>37913600.0</td>\n",
       "      <td>below_25</td>\n",
       "      <td>-2.419024</td>\n",
       "      <td>3.3500</td>\n",
       "      <td>0</td>\n",
       "      <td>97.54</td>\n",
       "      <td>NaN</td>\n",
       "      <td>NaN</td>\n",
       "      <td>NaN</td>\n",
       "      <td>97.560000</td>\n",
       "      <td>97.560000</td>\n",
       "      <td>97.560000</td>\n",
       "    </tr>\n",
       "    <tr>\n",
       "      <th>2002-06-25 22:00:00</th>\n",
       "      <td>95.20</td>\n",
       "      <td>97.72</td>\n",
       "      <td>98.150</td>\n",
       "      <td>95.1900</td>\n",
       "      <td>37913600</td>\n",
       "      <td>2.647059</td>\n",
       "      <td>97.5400</td>\n",
       "      <td>98.50</td>\n",
       "      <td>31616400.0</td>\n",
       "      <td>below_25</td>\n",
       "      <td>0.798199</td>\n",
       "      <td>2.9600</td>\n",
       "      <td>1</td>\n",
       "      <td>95.19</td>\n",
       "      <td>NaN</td>\n",
       "      <td>NaN</td>\n",
       "      <td>NaN</td>\n",
       "      <td>97.566275</td>\n",
       "      <td>97.563168</td>\n",
       "      <td>97.589091</td>\n",
       "    </tr>\n",
       "    <tr>\n",
       "      <th>2002-06-26 22:00:00</th>\n",
       "      <td>98.50</td>\n",
       "      <td>99.43</td>\n",
       "      <td>99.490</td>\n",
       "      <td>96.5700</td>\n",
       "      <td>31616400</td>\n",
       "      <td>0.944162</td>\n",
       "      <td>95.1900</td>\n",
       "      <td>99.24</td>\n",
       "      <td>28184200.0</td>\n",
       "      <td>below_25</td>\n",
       "      <td>-0.191089</td>\n",
       "      <td>2.9200</td>\n",
       "      <td>0</td>\n",
       "      <td>96.57</td>\n",
       "      <td>NaN</td>\n",
       "      <td>NaN</td>\n",
       "      <td>NaN</td>\n",
       "      <td>97.639362</td>\n",
       "      <td>97.600135</td>\n",
       "      <td>97.923802</td>\n",
       "    </tr>\n",
       "    <tr>\n",
       "      <th>2002-06-27 22:00:00</th>\n",
       "      <td>99.24</td>\n",
       "      <td>98.96</td>\n",
       "      <td>100.500</td>\n",
       "      <td>98.8800</td>\n",
       "      <td>28184200</td>\n",
       "      <td>-0.282144</td>\n",
       "      <td>96.5700</td>\n",
       "      <td>99.18</td>\n",
       "      <td>20270200.0</td>\n",
       "      <td>below_25</td>\n",
       "      <td>0.222312</td>\n",
       "      <td>1.6200</td>\n",
       "      <td>1</td>\n",
       "      <td>98.88</td>\n",
       "      <td>NaN</td>\n",
       "      <td>NaN</td>\n",
       "      <td>NaN</td>\n",
       "      <td>97.691152</td>\n",
       "      <td>97.627063</td>\n",
       "      <td>98.112201</td>\n",
       "    </tr>\n",
       "    <tr>\n",
       "      <th>2002-06-30 22:00:00</th>\n",
       "      <td>99.18</td>\n",
       "      <td>97.03</td>\n",
       "      <td>99.800</td>\n",
       "      <td>96.8900</td>\n",
       "      <td>20270200</td>\n",
       "      <td>-2.167776</td>\n",
       "      <td>98.8800</td>\n",
       "      <td>96.86</td>\n",
       "      <td>34213900.0</td>\n",
       "      <td>below_25</td>\n",
       "      <td>-0.175204</td>\n",
       "      <td>2.9100</td>\n",
       "      <td>0</td>\n",
       "      <td>96.89</td>\n",
       "      <td>NaN</td>\n",
       "      <td>NaN</td>\n",
       "      <td>NaN</td>\n",
       "      <td>97.665224</td>\n",
       "      <td>97.615240</td>\n",
       "      <td>97.915437</td>\n",
       "    </tr>\n",
       "    <tr>\n",
       "      <th>...</th>\n",
       "      <td>...</td>\n",
       "      <td>...</td>\n",
       "      <td>...</td>\n",
       "      <td>...</td>\n",
       "      <td>...</td>\n",
       "      <td>...</td>\n",
       "      <td>...</td>\n",
       "      <td>...</td>\n",
       "      <td>...</td>\n",
       "      <td>...</td>\n",
       "      <td>...</td>\n",
       "      <td>...</td>\n",
       "      <td>...</td>\n",
       "      <td>...</td>\n",
       "      <td>...</td>\n",
       "      <td>...</td>\n",
       "      <td>...</td>\n",
       "      <td>...</td>\n",
       "      <td>...</td>\n",
       "      <td>...</td>\n",
       "    </tr>\n",
       "    <tr>\n",
       "      <th>2022-06-13 22:00:00</th>\n",
       "      <td>376.85</td>\n",
       "      <td>373.87</td>\n",
       "      <td>377.940</td>\n",
       "      <td>370.5900</td>\n",
       "      <td>104011831</td>\n",
       "      <td>-0.790766</td>\n",
       "      <td>373.3000</td>\n",
       "      <td>377.36</td>\n",
       "      <td>125666797.0</td>\n",
       "      <td>mean</td>\n",
       "      <td>0.933480</td>\n",
       "      <td>7.3500</td>\n",
       "      <td>1</td>\n",
       "      <td>NaN</td>\n",
       "      <td>370.59</td>\n",
       "      <td>NaN</td>\n",
       "      <td>NaN</td>\n",
       "      <td>412.373061</td>\n",
       "      <td>424.149000</td>\n",
       "      <td>394.944512</td>\n",
       "    </tr>\n",
       "    <tr>\n",
       "      <th>2022-06-14 22:00:00</th>\n",
       "      <td>377.36</td>\n",
       "      <td>379.20</td>\n",
       "      <td>383.900</td>\n",
       "      <td>372.1200</td>\n",
       "      <td>125666797</td>\n",
       "      <td>0.487598</td>\n",
       "      <td>370.5900</td>\n",
       "      <td>370.51</td>\n",
       "      <td>134473288.0</td>\n",
       "      <td>75_percentile</td>\n",
       "      <td>-2.291667</td>\n",
       "      <td>11.7800</td>\n",
       "      <td>0</td>\n",
       "      <td>NaN</td>\n",
       "      <td>NaN</td>\n",
       "      <td>372.1200</td>\n",
       "      <td>NaN</td>\n",
       "      <td>411.072156</td>\n",
       "      <td>423.258921</td>\n",
       "      <td>392.081873</td>\n",
       "    </tr>\n",
       "    <tr>\n",
       "      <th>2022-06-15 22:00:00</th>\n",
       "      <td>370.51</td>\n",
       "      <td>366.65</td>\n",
       "      <td>370.940</td>\n",
       "      <td>364.0799</td>\n",
       "      <td>134473288</td>\n",
       "      <td>-1.041807</td>\n",
       "      <td>372.1200</td>\n",
       "      <td>365.51</td>\n",
       "      <td>111113904.0</td>\n",
       "      <td>75_percentile</td>\n",
       "      <td>-0.310923</td>\n",
       "      <td>6.8601</td>\n",
       "      <td>0</td>\n",
       "      <td>NaN</td>\n",
       "      <td>NaN</td>\n",
       "      <td>364.0799</td>\n",
       "      <td>NaN</td>\n",
       "      <td>409.330111</td>\n",
       "      <td>422.137952</td>\n",
       "      <td>387.457896</td>\n",
       "    </tr>\n",
       "    <tr>\n",
       "      <th>2022-06-16 22:00:00</th>\n",
       "      <td>365.51</td>\n",
       "      <td>365.86</td>\n",
       "      <td>369.380</td>\n",
       "      <td>362.1700</td>\n",
       "      <td>111113904</td>\n",
       "      <td>0.095757</td>\n",
       "      <td>364.0799</td>\n",
       "      <td>371.89</td>\n",
       "      <td>76811861.0</td>\n",
       "      <td>mean</td>\n",
       "      <td>1.648171</td>\n",
       "      <td>7.2100</td>\n",
       "      <td>1</td>\n",
       "      <td>NaN</td>\n",
       "      <td>362.17</td>\n",
       "      <td>NaN</td>\n",
       "      <td>NaN</td>\n",
       "      <td>407.625401</td>\n",
       "      <td>421.023537</td>\n",
       "      <td>383.531006</td>\n",
       "    </tr>\n",
       "    <tr>\n",
       "      <th>2022-06-20 22:00:00</th>\n",
       "      <td>371.89</td>\n",
       "      <td>375.07</td>\n",
       "      <td>376.525</td>\n",
       "      <td>371.8100</td>\n",
       "      <td>76811861</td>\n",
       "      <td>0.855092</td>\n",
       "      <td>362.1700</td>\n",
       "      <td>370.62</td>\n",
       "      <td>90059424.0</td>\n",
       "      <td>mean</td>\n",
       "      <td>-1.186445</td>\n",
       "      <td>4.7150</td>\n",
       "      <td>0</td>\n",
       "      <td>NaN</td>\n",
       "      <td>371.81</td>\n",
       "      <td>NaN</td>\n",
       "      <td>NaN</td>\n",
       "      <td>406.348718</td>\n",
       "      <td>420.113566</td>\n",
       "      <td>381.992641</td>\n",
       "    </tr>\n",
       "  </tbody>\n",
       "</table>\n",
       "<p>5033 rows × 20 columns</p>\n",
       "</div>"
      ],
      "text/plain": [
       "                       Open   Close     High       Low     Volume     Gain%  \\\n",
       "Datetime                                                                      \n",
       "2002-06-24 22:00:00  100.30   97.56  100.890   97.5400   33355000 -2.731805   \n",
       "2002-06-25 22:00:00   95.20   97.72   98.150   95.1900   37913600  2.647059   \n",
       "2002-06-26 22:00:00   98.50   99.43   99.490   96.5700   31616400  0.944162   \n",
       "2002-06-27 22:00:00   99.24   98.96  100.500   98.8800   28184200 -0.282144   \n",
       "2002-06-30 22:00:00   99.18   97.03   99.800   96.8900   20270200 -2.167776   \n",
       "...                     ...     ...      ...       ...        ...       ...   \n",
       "2022-06-13 22:00:00  376.85  373.87  377.940  370.5900  104011831 -0.790766   \n",
       "2022-06-14 22:00:00  377.36  379.20  383.900  372.1200  125666797  0.487598   \n",
       "2022-06-15 22:00:00  370.51  366.65  370.940  364.0799  134473288 -1.041807   \n",
       "2022-06-16 22:00:00  365.51  365.86  369.380  362.1700  111113904  0.095757   \n",
       "2022-06-20 22:00:00  371.89  375.07  376.525  371.8100   76811861  0.855092   \n",
       "\n",
       "                     Previous_Low  NextDay_open  NextDay_Volume  \\\n",
       "Datetime                                                          \n",
       "2002-06-24 22:00:00       97.2500         95.20      37913600.0   \n",
       "2002-06-25 22:00:00       97.5400         98.50      31616400.0   \n",
       "2002-06-26 22:00:00       95.1900         99.24      28184200.0   \n",
       "2002-06-27 22:00:00       96.5700         99.18      20270200.0   \n",
       "2002-06-30 22:00:00       98.8800         96.86      34213900.0   \n",
       "...                           ...           ...             ...   \n",
       "2022-06-13 22:00:00      373.3000        377.36     125666797.0   \n",
       "2022-06-14 22:00:00      370.5900        370.51     134473288.0   \n",
       "2022-06-15 22:00:00      372.1200        365.51     111113904.0   \n",
       "2022-06-16 22:00:00      364.0799        371.89      76811861.0   \n",
       "2022-06-20 22:00:00      362.1700        370.62      90059424.0   \n",
       "\n",
       "                             Range     %Gain  Range of the day  R/G  below_25  \\\n",
       "Datetime                                                                        \n",
       "2002-06-24 22:00:00       below_25 -2.419024            3.3500    0     97.54   \n",
       "2002-06-25 22:00:00       below_25  0.798199            2.9600    1     95.19   \n",
       "2002-06-26 22:00:00       below_25 -0.191089            2.9200    0     96.57   \n",
       "2002-06-27 22:00:00       below_25  0.222312            1.6200    1     98.88   \n",
       "2002-06-30 22:00:00       below_25 -0.175204            2.9100    0     96.89   \n",
       "...                            ...       ...               ...  ...       ...   \n",
       "2022-06-13 22:00:00           mean  0.933480            7.3500    1       NaN   \n",
       "2022-06-14 22:00:00  75_percentile -2.291667           11.7800    0       NaN   \n",
       "2022-06-15 22:00:00  75_percentile -0.310923            6.8601    0       NaN   \n",
       "2022-06-16 22:00:00           mean  1.648171            7.2100    1       NaN   \n",
       "2022-06-20 22:00:00           mean -1.186445            4.7150    0       NaN   \n",
       "\n",
       "                       mean  75_percentile  Max    50dayEWM   100dayEWM  \\\n",
       "Datetime                                                                  \n",
       "2002-06-24 22:00:00     NaN            NaN  NaN   97.560000   97.560000   \n",
       "2002-06-25 22:00:00     NaN            NaN  NaN   97.566275   97.563168   \n",
       "2002-06-26 22:00:00     NaN            NaN  NaN   97.639362   97.600135   \n",
       "2002-06-27 22:00:00     NaN            NaN  NaN   97.691152   97.627063   \n",
       "2002-06-30 22:00:00     NaN            NaN  NaN   97.665224   97.615240   \n",
       "...                     ...            ...  ...         ...         ...   \n",
       "2022-06-13 22:00:00  370.59            NaN  NaN  412.373061  424.149000   \n",
       "2022-06-14 22:00:00     NaN       372.1200  NaN  411.072156  423.258921   \n",
       "2022-06-15 22:00:00     NaN       364.0799  NaN  409.330111  422.137952   \n",
       "2022-06-16 22:00:00  362.17            NaN  NaN  407.625401  421.023537   \n",
       "2022-06-20 22:00:00  371.81            NaN  NaN  406.348718  420.113566   \n",
       "\n",
       "                       10dayEWM  \n",
       "Datetime                         \n",
       "2002-06-24 22:00:00   97.560000  \n",
       "2002-06-25 22:00:00   97.589091  \n",
       "2002-06-26 22:00:00   97.923802  \n",
       "2002-06-27 22:00:00   98.112201  \n",
       "2002-06-30 22:00:00   97.915437  \n",
       "...                         ...  \n",
       "2022-06-13 22:00:00  394.944512  \n",
       "2022-06-14 22:00:00  392.081873  \n",
       "2022-06-15 22:00:00  387.457896  \n",
       "2022-06-16 22:00:00  383.531006  \n",
       "2022-06-20 22:00:00  381.992641  \n",
       "\n",
       "[5033 rows x 20 columns]"
      ]
     },
     "execution_count": 45,
     "metadata": {},
     "output_type": "execute_result"
    }
   ],
   "source": [
    "data_df"
   ]
  },
  {
   "cell_type": "code",
   "execution_count": 46,
   "id": "8e4ad69c",
   "metadata": {},
   "outputs": [],
   "source": [
    "data_df[\"Gain_Loss\"] = data_df[\"NextDay_open\"] - data_df[\"Close\"]"
   ]
  },
  {
   "cell_type": "code",
   "execution_count": 47,
   "id": "a8582be1",
   "metadata": {},
   "outputs": [],
   "source": [
    "mypath = f\"{ticker}/graph\"\n",
    "if not os.path.isdir(mypath):\n",
    "    os.makedirs(mypath)\n",
    "    \n",
    "upload_file = f\"{ticker}/graph/graph_{file}\"\n",
    "data_df.to_csv(upload_file)"
   ]
  },
  {
   "cell_type": "code",
   "execution_count": null,
   "id": "4c35a140",
   "metadata": {},
   "outputs": [],
   "source": [
    "msft = analyze_chart(\"MSFT\", \"MSFT_minute_15_False.csv\", \"2021-03-21 22:00:00\", \"2022-03-21 22:00:00\")"
   ]
  },
  {
   "cell_type": "code",
   "execution_count": null,
   "id": "ae0a46b3",
   "metadata": {},
   "outputs": [],
   "source": [
    "msft"
   ]
  },
  {
   "cell_type": "code",
   "execution_count": null,
   "id": "bebb8e68",
   "metadata": {},
   "outputs": [],
   "source": [
    "msft.info()"
   ]
  },
  {
   "cell_type": "code",
   "execution_count": null,
   "id": "40d6f350",
   "metadata": {},
   "outputs": [],
   "source": [
    "plot_data(msft, '75_percentile', \"2021-03-21 22:00:00\", \"2022-03-21 22:00:00\")"
   ]
  },
  {
   "cell_type": "code",
   "execution_count": null,
   "id": "1e041030",
   "metadata": {},
   "outputs": [],
   "source": [
    "plot_data(msft, 'Max', \"2021-03-21 22:00:00\", \"2022-03-21 22:00:00\")"
   ]
  },
  {
   "cell_type": "code",
   "execution_count": null,
   "id": "4897c050",
   "metadata": {},
   "outputs": [],
   "source": [
    "data_df.info()"
   ]
  },
  {
   "cell_type": "code",
   "execution_count": null,
   "id": "a99a36dc",
   "metadata": {},
   "outputs": [],
   "source": [
    "plot_data(data_df, '75_percentile', start, end)"
   ]
  },
  {
   "cell_type": "code",
   "execution_count": null,
   "id": "d42de39d",
   "metadata": {},
   "outputs": [],
   "source": [
    "plot_data(data_df, 'mean', start, end)"
   ]
  },
  {
   "cell_type": "code",
   "execution_count": null,
   "id": "95478667",
   "metadata": {},
   "outputs": [],
   "source": [
    "plot_data(data_df, 'below_25', start, end)"
   ]
  },
  {
   "cell_type": "code",
   "execution_count": null,
   "id": "5b41156f",
   "metadata": {},
   "outputs": [],
   "source": []
  },
  {
   "cell_type": "code",
   "execution_count": null,
   "id": "b09e22a8",
   "metadata": {},
   "outputs": [],
   "source": [
    "data_df.loc[data_df.index == '2022-03-16 9:00:00']"
   ]
  },
  {
   "cell_type": "code",
   "execution_count": null,
   "id": "62415ea7",
   "metadata": {},
   "outputs": [],
   "source": [
    "#note intital analysis looks like mean volume seems to be trend with max volume fakeout #below_25 consolidation"
   ]
  },
  {
   "cell_type": "code",
   "execution_count": null,
   "id": "c7dbeead",
   "metadata": {},
   "outputs": [],
   "source": [
    "fig = plot_data(data, 'below_25', start, end)"
   ]
  },
  {
   "cell_type": "code",
   "execution_count": null,
   "id": "e00acd18",
   "metadata": {},
   "outputs": [],
   "source": [
    "data"
   ]
  },
  {
   "cell_type": "code",
   "execution_count": null,
   "id": "28daebc3",
   "metadata": {},
   "outputs": [],
   "source": [
    "fig = plot_data(data, '75_percentile', start, end)"
   ]
  },
  {
   "cell_type": "code",
   "execution_count": null,
   "id": "3f01814f",
   "metadata": {},
   "outputs": [],
   "source": [
    "fig"
   ]
  },
  {
   "cell_type": "code",
   "execution_count": null,
   "id": "e10ea755",
   "metadata": {},
   "outputs": [],
   "source": [
    "data = cat_sort('below_25', data_df)"
   ]
  },
  {
   "cell_type": "code",
   "execution_count": null,
   "id": "3ffe3456",
   "metadata": {},
   "outputs": [],
   "source": [
    "data"
   ]
  },
  {
   "cell_type": "code",
   "execution_count": null,
   "id": "f07011a0",
   "metadata": {},
   "outputs": [],
   "source": [
    "data.info()"
   ]
  },
  {
   "cell_type": "code",
   "execution_count": null,
   "id": "a8eeb0cc",
   "metadata": {},
   "outputs": [],
   "source": [
    "data['mean'].dropna()"
   ]
  },
  {
   "cell_type": "code",
   "execution_count": null,
   "id": "58cf4900",
   "metadata": {},
   "outputs": [],
   "source": [
    "max = data.loc[data.index, ['Max', 'Gain%', 'Volume']].dropna()"
   ]
  },
  {
   "cell_type": "code",
   "execution_count": null,
   "id": "e4377f6f",
   "metadata": {},
   "outputs": [],
   "source": [
    "max"
   ]
  },
  {
   "cell_type": "code",
   "execution_count": null,
   "id": "03d83f20",
   "metadata": {},
   "outputs": [],
   "source": [
    "data_df"
   ]
  },
  {
   "cell_type": "code",
   "execution_count": null,
   "id": "f46159f0",
   "metadata": {},
   "outputs": [],
   "source": [
    "data_df.groupby('Max')"
   ]
  },
  {
   "cell_type": "code",
   "execution_count": null,
   "id": "4c6547f5",
   "metadata": {},
   "outputs": [],
   "source": [
    "data_df.loc[(data_df['Close'] > data_df['50dayEWM'])]"
   ]
  },
  {
   "cell_type": "code",
   "execution_count": null,
   "id": "cf8de8f6",
   "metadata": {},
   "outputs": [],
   "source": [
    "data_df.loc[(data_df['Close'] > data_df['100dayEWM'])].head(20)"
   ]
  },
  {
   "cell_type": "code",
   "execution_count": null,
   "id": "5088fc0d",
   "metadata": {},
   "outputs": [],
   "source": [
    "df = data_df.loc[(data_df.index == '2022-03-07 04:15:00')]\n",
    "(df[\"Close\"] - df['Open']) / df['Open'] * 100"
   ]
  },
  {
   "cell_type": "code",
   "execution_count": null,
   "id": "7b7074fa",
   "metadata": {
    "scrolled": true
   },
   "outputs": [],
   "source": [
    "data_df"
   ]
  },
  {
   "cell_type": "code",
   "execution_count": null,
   "id": "2603439a",
   "metadata": {},
   "outputs": [],
   "source": [
    "data_set_df = analyze_chart('MSFT', 'MSFT_daily_1_False.csv', '2021-03-16 22:00:00', '2022-03-16 22:00:00')"
   ]
  },
  {
   "cell_type": "code",
   "execution_count": null,
   "id": "a140ac03",
   "metadata": {},
   "outputs": [],
   "source": []
  }
 ],
 "metadata": {
  "kernelspec": {
   "display_name": "PythonData",
   "language": "python",
   "name": "pythondata"
  },
  "language_info": {
   "codemirror_mode": {
    "name": "ipython",
    "version": 3
   },
   "file_extension": ".py",
   "mimetype": "text/x-python",
   "name": "python",
   "nbconvert_exporter": "python",
   "pygments_lexer": "ipython3",
   "version": "3.9.7"
  }
 },
 "nbformat": 4,
 "nbformat_minor": 5
}
